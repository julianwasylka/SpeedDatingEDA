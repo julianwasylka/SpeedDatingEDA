{
 "cells": [
  {
   "cell_type": "code",
   "id": "initial_id",
   "metadata": {
    "collapsed": true,
    "ExecuteTime": {
     "end_time": "2025-06-13T10:23:24.686010Z",
     "start_time": "2025-06-13T10:23:24.671714Z"
    }
   },
   "source": [
    "from sklearn.linear_model import LogisticRegression\n",
    "from sklearn.model_selection import cross_val_score\n",
    "from sklearn.model_selection import GridSearchCV\n",
    "from sklearn.metrics import classification_report\n",
    "from sklearn.metrics import confusion_matrix\n",
    "from sklearn.metrics import f1_score\n",
    "from sklearn.metrics import ConfusionMatrixDisplay\n",
    "import pandas as pd\n",
    "from sklearn.preprocessing import StandardScaler\n",
    "import numpy as np"
   ],
   "outputs": [],
   "execution_count": 103
  },
  {
   "metadata": {
    "ExecuteTime": {
     "end_time": "2025-06-13T09:37:16.165621Z",
     "start_time": "2025-06-13T09:37:16.038635Z"
    }
   },
   "cell_type": "code",
   "source": [
    "train_set = pd.read_csv('train_data.csv')\n",
    "test_set = pd.read_csv('test_data.csv')\n",
    "train_set.drop(['Unnamed: 0', 'zipcode', 'from', 'positin1', 'undergra', 'income', 'mn_sat', 'tuition', 'id', 'iid'], inplace=True, axis=1)\n",
    "test_set.drop(['Unnamed: 0', 'zipcode', 'from', 'positin1', 'undergra', 'income', 'mn_sat', 'tuition', 'id', 'iid'], inplace=True, axis=1)\n",
    "X_train = train_set.drop(['match'], axis=1)\n",
    "columns = X_train.columns\n",
    "y_train = train_set['match']\n",
    "X_test = test_set.drop(['match'], axis=1)\n",
    "y_test = test_set['match']"
   ],
   "id": "5194f579037939b9",
   "outputs": [],
   "execution_count": 2
  },
  {
   "metadata": {
    "ExecuteTime": {
     "end_time": "2025-06-13T09:37:33.028366Z",
     "start_time": "2025-06-13T09:37:32.973970Z"
    }
   },
   "cell_type": "code",
   "source": [
    "#Standarization\n",
    "scaler = StandardScaler()\n",
    "X_train = scaler.fit_transform(X_train)\n",
    "X_test = scaler.transform(X_test) # NOT FIT TRANSFORM\n",
    "print(np.std(X_train))\n",
    "print(abs(round(np.mean(X_train), 17)))"
   ],
   "id": "a3aa0de01f21d579",
   "outputs": [
    {
     "name": "stdout",
     "output_type": "stream",
     "text": [
      "0.9999999999999999\n",
      "1e-17\n"
     ]
    }
   ],
   "execution_count": 3
  },
  {
   "metadata": {
    "ExecuteTime": {
     "end_time": "2025-06-13T09:42:06.353315Z",
     "start_time": "2025-06-13T09:42:06.099182Z"
    }
   },
   "cell_type": "code",
   "source": [
    "#Before removing dec\n",
    "log_reg = LogisticRegression()\n",
    "\n",
    "scores = cross_val_score(log_reg, X_train, y_train, cv=5, n_jobs=-1, scoring='f1')\n",
    "\n",
    "print(scores)\n",
    "print(scores.mean())\n",
    "print(scores.std())"
   ],
   "id": "754ad200b36d1cff",
   "outputs": [
    {
     "name": "stdout",
     "output_type": "stream",
     "text": [
      "[1. 1. 1. 1. 1.]\n",
      "1.0\n",
      "0.0\n"
     ]
    }
   ],
   "execution_count": 10
  },
  {
   "metadata": {
    "ExecuteTime": {
     "end_time": "2025-06-12T23:03:14.974317Z",
     "start_time": "2025-06-12T23:03:14.410570Z"
    }
   },
   "cell_type": "code",
   "source": [
    "importances = log_reg.fit(X_train, y_train).coef_\n",
    "imp_df = pd.DataFrame({'Feature': columns, 'Coefficient': importances.flatten()})\n",
    "imp_df.sort_values(ascending = False, by = 'Coefficient', inplace = True)\n",
    "print(imp_df)"
   ],
   "id": "3af2533b27d5e3e6",
   "outputs": [
    {
     "name": "stdout",
     "output_type": "stream",
     "text": [
      "     Feature  Coefficient\n",
      "19     dec_o     4.980671\n",
      "85       dec     4.932351\n",
      "86      attr     0.152839\n",
      "20    attr_o     0.135967\n",
      "140  sinc5_2     0.091390\n",
      "..       ...          ...\n",
      "67    amb4_1    -0.061204\n",
      "90       amb    -0.061579\n",
      "105   fun3_s    -0.084525\n",
      "2     condtn    -0.087471\n",
      "127  shar4_2    -0.088011\n",
      "\n",
      "[183 rows x 2 columns]\n"
     ]
    }
   ],
   "execution_count": 161
  },
  {
   "metadata": {
    "ExecuteTime": {
     "end_time": "2025-06-13T09:43:37.828395Z",
     "start_time": "2025-06-13T09:43:37.814057Z"
    }
   },
   "cell_type": "code",
   "source": [
    "train_set.drop(['dec', 'dec_o'], inplace=True, axis=1)\n",
    "test_set.drop(['dec', 'dec_o'], inplace=True, axis=1)\n",
    "\n"
   ],
   "id": "45d41481616cbc09",
   "outputs": [],
   "execution_count": 11
  },
  {
   "metadata": {
    "ExecuteTime": {
     "end_time": "2025-06-13T09:43:38.836124Z",
     "start_time": "2025-06-13T09:43:38.823503Z"
    }
   },
   "cell_type": "code",
   "source": [
    "X_train = train_set.drop(['match'], axis=1)\n",
    "X_test = test_set.drop(['match'], axis=1)\n",
    "columns = X_train.columns"
   ],
   "id": "86ff83611f10e69e",
   "outputs": [],
   "execution_count": 12
  },
  {
   "metadata": {
    "ExecuteTime": {
     "end_time": "2025-06-13T09:43:47.811792Z",
     "start_time": "2025-06-13T09:43:47.099814Z"
    }
   },
   "cell_type": "code",
   "source": [
    "#First attempt\n",
    "log_reg = LogisticRegression()\n",
    "\n",
    "scores = cross_val_score(log_reg, X_train, y_train, cv=5, n_jobs=-1, scoring='f1')\n",
    "\n",
    "print(scores)\n",
    "print(scores.mean())\n",
    "print(scores.std())"
   ],
   "id": "8d5710cd5c87fde2",
   "outputs": [
    {
     "name": "stdout",
     "output_type": "stream",
     "text": [
      "[0.47288503 0.34332989 0.36426117 0.43672457 0.2992126 ]\n",
      "0.3832826502701967\n",
      "0.06310378591247302\n"
     ]
    }
   ],
   "execution_count": 13
  },
  {
   "metadata": {
    "ExecuteTime": {
     "end_time": "2025-06-12T23:04:35.790081Z",
     "start_time": "2025-06-12T23:04:32.936336Z"
    }
   },
   "cell_type": "code",
   "source": [
    "importances = log_reg.fit(X_train, y_train).coef_\n",
    "imp_df = pd.DataFrame({'Feature': columns, 'Coefficient': importances.flatten()})\n",
    "imp_df.sort_values(ascending = False, by = 'Coefficient', inplace = True)"
   ],
   "id": "53dd04c60ce6a11b",
   "outputs": [],
   "execution_count": 169
  },
  {
   "metadata": {
    "ExecuteTime": {
     "end_time": "2025-06-12T23:04:46.775888Z",
     "start_time": "2025-06-12T23:04:46.758339Z"
    }
   },
   "cell_type": "code",
   "source": "imp_df",
   "id": "9de109b9d74b7dce",
   "outputs": [
    {
     "data": {
      "text/plain": [
       "      Feature  Coefficient\n",
       "9    int_corr     0.379655\n",
       "90       like     0.354235\n",
       "25     like_o     0.314818\n",
       "146  num_in_3     0.305976\n",
       "19     attr_o     0.269968\n",
       "..        ...          ...\n",
       "134  intel3_2    -0.157824\n",
       "10   samerace    -0.178568\n",
       "177   sinc5_3    -0.182714\n",
       "103    fun3_s    -0.193990\n",
       "2      condtn    -1.351030\n",
       "\n",
       "[181 rows x 2 columns]"
      ],
      "text/html": [
       "<div>\n",
       "<style scoped>\n",
       "    .dataframe tbody tr th:only-of-type {\n",
       "        vertical-align: middle;\n",
       "    }\n",
       "\n",
       "    .dataframe tbody tr th {\n",
       "        vertical-align: top;\n",
       "    }\n",
       "\n",
       "    .dataframe thead th {\n",
       "        text-align: right;\n",
       "    }\n",
       "</style>\n",
       "<table border=\"1\" class=\"dataframe\">\n",
       "  <thead>\n",
       "    <tr style=\"text-align: right;\">\n",
       "      <th></th>\n",
       "      <th>Feature</th>\n",
       "      <th>Coefficient</th>\n",
       "    </tr>\n",
       "  </thead>\n",
       "  <tbody>\n",
       "    <tr>\n",
       "      <th>9</th>\n",
       "      <td>int_corr</td>\n",
       "      <td>0.379655</td>\n",
       "    </tr>\n",
       "    <tr>\n",
       "      <th>90</th>\n",
       "      <td>like</td>\n",
       "      <td>0.354235</td>\n",
       "    </tr>\n",
       "    <tr>\n",
       "      <th>25</th>\n",
       "      <td>like_o</td>\n",
       "      <td>0.314818</td>\n",
       "    </tr>\n",
       "    <tr>\n",
       "      <th>146</th>\n",
       "      <td>num_in_3</td>\n",
       "      <td>0.305976</td>\n",
       "    </tr>\n",
       "    <tr>\n",
       "      <th>19</th>\n",
       "      <td>attr_o</td>\n",
       "      <td>0.269968</td>\n",
       "    </tr>\n",
       "    <tr>\n",
       "      <th>...</th>\n",
       "      <td>...</td>\n",
       "      <td>...</td>\n",
       "    </tr>\n",
       "    <tr>\n",
       "      <th>134</th>\n",
       "      <td>intel3_2</td>\n",
       "      <td>-0.157824</td>\n",
       "    </tr>\n",
       "    <tr>\n",
       "      <th>10</th>\n",
       "      <td>samerace</td>\n",
       "      <td>-0.178568</td>\n",
       "    </tr>\n",
       "    <tr>\n",
       "      <th>177</th>\n",
       "      <td>sinc5_3</td>\n",
       "      <td>-0.182714</td>\n",
       "    </tr>\n",
       "    <tr>\n",
       "      <th>103</th>\n",
       "      <td>fun3_s</td>\n",
       "      <td>-0.193990</td>\n",
       "    </tr>\n",
       "    <tr>\n",
       "      <th>2</th>\n",
       "      <td>condtn</td>\n",
       "      <td>-1.351030</td>\n",
       "    </tr>\n",
       "  </tbody>\n",
       "</table>\n",
       "<p>181 rows × 2 columns</p>\n",
       "</div>"
      ]
     },
     "execution_count": 171,
     "metadata": {},
     "output_type": "execute_result"
    }
   ],
   "execution_count": 171
  },
  {
   "metadata": {
    "ExecuteTime": {
     "end_time": "2025-06-13T09:51:59.199708Z",
     "start_time": "2025-06-13T09:50:31.045084Z"
    }
   },
   "cell_type": "code",
   "source": [
    "#Hyperparameter tuning\n",
    "param_grid = {\"C\":[0.001, 0.01, 0.1, 0.5, 1.0, 10.0, 20.0, 50.0], \"penalty\": [\"l1\", \"l2\"], \"solver\": [\"liblinear\"]}\n",
    "#param_grid = {\"C\":[0.1, 0.5, 1.0, 10.0, 20.0, 50.0], \"penalty\": [\"l2\"], \"solver\": [\"liblinear\"]}\n",
    "log_reg_clf = LogisticRegression()\n",
    "\n",
    "\n",
    "grid_search = GridSearchCV(log_reg_clf, param_grid, cv=5, n_jobs=-1, scoring='f1')\n",
    "grid_search.fit(X_train, y_train)\n",
    "\n",
    "cv_res = grid_search.cv_results_\n",
    "\n",
    "for mean_score, params in zip(cv_res['mean_test_score'], cv_res['params']):\n",
    "    print(mean_score, params)\n",
    "    "
   ],
   "id": "90e35db947f2a11c",
   "outputs": [
    {
     "name": "stdout",
     "output_type": "stream",
     "text": [
      "0.0 {'C': 0.001, 'penalty': 'l1', 'solver': 'liblinear'}\n",
      "0.3594082305926723 {'C': 0.001, 'penalty': 'l2', 'solver': 'liblinear'}\n",
      "0.3862069585607384 {'C': 0.01, 'penalty': 'l1', 'solver': 'liblinear'}\n",
      "0.39076293516522675 {'C': 0.01, 'penalty': 'l2', 'solver': 'liblinear'}\n",
      "0.41655241245002095 {'C': 0.1, 'penalty': 'l1', 'solver': 'liblinear'}\n",
      "0.3878046854741757 {'C': 0.1, 'penalty': 'l2', 'solver': 'liblinear'}\n",
      "0.40773740145990195 {'C': 0.5, 'penalty': 'l1', 'solver': 'liblinear'}\n",
      "0.39130076249194 {'C': 0.5, 'penalty': 'l2', 'solver': 'liblinear'}\n",
      "0.4037180782016795 {'C': 1.0, 'penalty': 'l1', 'solver': 'liblinear'}\n",
      "0.38590461704495216 {'C': 1.0, 'penalty': 'l2', 'solver': 'liblinear'}\n",
      "0.394931111899003 {'C': 10.0, 'penalty': 'l1', 'solver': 'liblinear'}\n",
      "0.3797578514163858 {'C': 10.0, 'penalty': 'l2', 'solver': 'liblinear'}\n",
      "0.39598751627061274 {'C': 20.0, 'penalty': 'l1', 'solver': 'liblinear'}\n",
      "0.37823581714140464 {'C': 20.0, 'penalty': 'l2', 'solver': 'liblinear'}\n",
      "0.3943284631458489 {'C': 50.0, 'penalty': 'l1', 'solver': 'liblinear'}\n",
      "0.3803048717676988 {'C': 50.0, 'penalty': 'l2', 'solver': 'liblinear'}\n"
     ]
    }
   ],
   "execution_count": 14
  },
  {
   "metadata": {
    "ExecuteTime": {
     "end_time": "2025-06-13T09:55:11.856880Z",
     "start_time": "2025-06-13T09:51:59.287136Z"
    }
   },
   "cell_type": "code",
   "source": [
    "#Hyperparameter tuning - version with balanced classes\n",
    "param_grid = {\"C\":[0.001, 0.01, 0.1, 0.5, 1.0, 10.0, 20.0, 50.0], \"penalty\": [\"l1\", \"l2\"], \"solver\": [\"liblinear\"], \"class_weight\":['balanced']}\n",
    "#param_grid = {\"C\":[0.1, 0.5, 1.0, 10.0, 20.0, 50.0], \"penalty\": [\"l2\"], \"solver\": [\"liblinear\"]}\n",
    "log_reg_clf = LogisticRegression()\n",
    "\n",
    "\n",
    "grid_search = GridSearchCV(log_reg_clf, param_grid, cv=5, n_jobs=-1, scoring='f1')\n",
    "grid_search.fit(X_train, y_train)\n",
    "\n",
    "cv_res = grid_search.cv_results_\n",
    "\n",
    "for mean_score, params in zip(cv_res['mean_test_score'], cv_res['params']):\n",
    "    print(mean_score, params)"
   ],
   "id": "b1424f87fa7f8108",
   "outputs": [
    {
     "ename": "KeyboardInterrupt",
     "evalue": "",
     "output_type": "error",
     "traceback": [
      "\u001B[31m---------------------------------------------------------------------------\u001B[39m",
      "\u001B[31mKeyboardInterrupt\u001B[39m                         Traceback (most recent call last)",
      "\u001B[36mCell\u001B[39m\u001B[36m \u001B[39m\u001B[32mIn[15]\u001B[39m\u001B[32m, line 8\u001B[39m\n\u001B[32m      4\u001B[39m log_reg_clf = LogisticRegression()\n\u001B[32m      7\u001B[39m grid_search = GridSearchCV(log_reg_clf, param_grid, cv=\u001B[32m5\u001B[39m, n_jobs=-\u001B[32m1\u001B[39m, scoring=\u001B[33m'\u001B[39m\u001B[33mf1\u001B[39m\u001B[33m'\u001B[39m)\n\u001B[32m----> \u001B[39m\u001B[32m8\u001B[39m \u001B[43mgrid_search\u001B[49m\u001B[43m.\u001B[49m\u001B[43mfit\u001B[49m\u001B[43m(\u001B[49m\u001B[43mX_train\u001B[49m\u001B[43m,\u001B[49m\u001B[43m \u001B[49m\u001B[43my_train\u001B[49m\u001B[43m)\u001B[49m\n\u001B[32m     10\u001B[39m cv_res = grid_search.cv_results_\n\u001B[32m     12\u001B[39m \u001B[38;5;28;01mfor\u001B[39;00m mean_score, params \u001B[38;5;129;01min\u001B[39;00m \u001B[38;5;28mzip\u001B[39m(cv_res[\u001B[33m'\u001B[39m\u001B[33mmean_test_score\u001B[39m\u001B[33m'\u001B[39m], cv_res[\u001B[33m'\u001B[39m\u001B[33mparams\u001B[39m\u001B[33m'\u001B[39m]):\n",
      "\u001B[36mFile \u001B[39m\u001B[32m~\\OneDrive\\Pulpit\\Pulpit_\\Studies\\Informatyka\\Eksploracja danych\\projekt\\EDP1EDA\\.venv\\Lib\\site-packages\\sklearn\\base.py:1363\u001B[39m, in \u001B[36m_fit_context.<locals>.decorator.<locals>.wrapper\u001B[39m\u001B[34m(estimator, *args, **kwargs)\u001B[39m\n\u001B[32m   1356\u001B[39m     estimator._validate_params()\n\u001B[32m   1358\u001B[39m \u001B[38;5;28;01mwith\u001B[39;00m config_context(\n\u001B[32m   1359\u001B[39m     skip_parameter_validation=(\n\u001B[32m   1360\u001B[39m         prefer_skip_nested_validation \u001B[38;5;129;01mor\u001B[39;00m global_skip_validation\n\u001B[32m   1361\u001B[39m     )\n\u001B[32m   1362\u001B[39m ):\n\u001B[32m-> \u001B[39m\u001B[32m1363\u001B[39m     \u001B[38;5;28;01mreturn\u001B[39;00m \u001B[43mfit_method\u001B[49m\u001B[43m(\u001B[49m\u001B[43mestimator\u001B[49m\u001B[43m,\u001B[49m\u001B[43m \u001B[49m\u001B[43m*\u001B[49m\u001B[43margs\u001B[49m\u001B[43m,\u001B[49m\u001B[43m \u001B[49m\u001B[43m*\u001B[49m\u001B[43m*\u001B[49m\u001B[43mkwargs\u001B[49m\u001B[43m)\u001B[49m\n",
      "\u001B[36mFile \u001B[39m\u001B[32m~\\OneDrive\\Pulpit\\Pulpit_\\Studies\\Informatyka\\Eksploracja danych\\projekt\\EDP1EDA\\.venv\\Lib\\site-packages\\sklearn\\model_selection\\_search.py:1051\u001B[39m, in \u001B[36mBaseSearchCV.fit\u001B[39m\u001B[34m(self, X, y, **params)\u001B[39m\n\u001B[32m   1045\u001B[39m     results = \u001B[38;5;28mself\u001B[39m._format_results(\n\u001B[32m   1046\u001B[39m         all_candidate_params, n_splits, all_out, all_more_results\n\u001B[32m   1047\u001B[39m     )\n\u001B[32m   1049\u001B[39m     \u001B[38;5;28;01mreturn\u001B[39;00m results\n\u001B[32m-> \u001B[39m\u001B[32m1051\u001B[39m \u001B[38;5;28;43mself\u001B[39;49m\u001B[43m.\u001B[49m\u001B[43m_run_search\u001B[49m\u001B[43m(\u001B[49m\u001B[43mevaluate_candidates\u001B[49m\u001B[43m)\u001B[49m\n\u001B[32m   1053\u001B[39m \u001B[38;5;66;03m# multimetric is determined here because in the case of a callable\u001B[39;00m\n\u001B[32m   1054\u001B[39m \u001B[38;5;66;03m# self.scoring the return type is only known after calling\u001B[39;00m\n\u001B[32m   1055\u001B[39m first_test_score = all_out[\u001B[32m0\u001B[39m][\u001B[33m\"\u001B[39m\u001B[33mtest_scores\u001B[39m\u001B[33m\"\u001B[39m]\n",
      "\u001B[36mFile \u001B[39m\u001B[32m~\\OneDrive\\Pulpit\\Pulpit_\\Studies\\Informatyka\\Eksploracja danych\\projekt\\EDP1EDA\\.venv\\Lib\\site-packages\\sklearn\\model_selection\\_search.py:1605\u001B[39m, in \u001B[36mGridSearchCV._run_search\u001B[39m\u001B[34m(self, evaluate_candidates)\u001B[39m\n\u001B[32m   1603\u001B[39m \u001B[38;5;28;01mdef\u001B[39;00m\u001B[38;5;250m \u001B[39m\u001B[34m_run_search\u001B[39m(\u001B[38;5;28mself\u001B[39m, evaluate_candidates):\n\u001B[32m   1604\u001B[39m \u001B[38;5;250m    \u001B[39m\u001B[33;03m\"\"\"Search all candidates in param_grid\"\"\"\u001B[39;00m\n\u001B[32m-> \u001B[39m\u001B[32m1605\u001B[39m     \u001B[43mevaluate_candidates\u001B[49m\u001B[43m(\u001B[49m\u001B[43mParameterGrid\u001B[49m\u001B[43m(\u001B[49m\u001B[38;5;28;43mself\u001B[39;49m\u001B[43m.\u001B[49m\u001B[43mparam_grid\u001B[49m\u001B[43m)\u001B[49m\u001B[43m)\u001B[49m\n",
      "\u001B[36mFile \u001B[39m\u001B[32m~\\OneDrive\\Pulpit\\Pulpit_\\Studies\\Informatyka\\Eksploracja danych\\projekt\\EDP1EDA\\.venv\\Lib\\site-packages\\sklearn\\model_selection\\_search.py:997\u001B[39m, in \u001B[36mBaseSearchCV.fit.<locals>.evaluate_candidates\u001B[39m\u001B[34m(candidate_params, cv, more_results)\u001B[39m\n\u001B[32m    989\u001B[39m \u001B[38;5;28;01mif\u001B[39;00m \u001B[38;5;28mself\u001B[39m.verbose > \u001B[32m0\u001B[39m:\n\u001B[32m    990\u001B[39m     \u001B[38;5;28mprint\u001B[39m(\n\u001B[32m    991\u001B[39m         \u001B[33m\"\u001B[39m\u001B[33mFitting \u001B[39m\u001B[38;5;132;01m{0}\u001B[39;00m\u001B[33m folds for each of \u001B[39m\u001B[38;5;132;01m{1}\u001B[39;00m\u001B[33m candidates,\u001B[39m\u001B[33m\"\u001B[39m\n\u001B[32m    992\u001B[39m         \u001B[33m\"\u001B[39m\u001B[33m totalling \u001B[39m\u001B[38;5;132;01m{2}\u001B[39;00m\u001B[33m fits\u001B[39m\u001B[33m\"\u001B[39m.format(\n\u001B[32m    993\u001B[39m             n_splits, n_candidates, n_candidates * n_splits\n\u001B[32m    994\u001B[39m         )\n\u001B[32m    995\u001B[39m     )\n\u001B[32m--> \u001B[39m\u001B[32m997\u001B[39m out = \u001B[43mparallel\u001B[49m\u001B[43m(\u001B[49m\n\u001B[32m    998\u001B[39m \u001B[43m    \u001B[49m\u001B[43mdelayed\u001B[49m\u001B[43m(\u001B[49m\u001B[43m_fit_and_score\u001B[49m\u001B[43m)\u001B[49m\u001B[43m(\u001B[49m\n\u001B[32m    999\u001B[39m \u001B[43m        \u001B[49m\u001B[43mclone\u001B[49m\u001B[43m(\u001B[49m\u001B[43mbase_estimator\u001B[49m\u001B[43m)\u001B[49m\u001B[43m,\u001B[49m\n\u001B[32m   1000\u001B[39m \u001B[43m        \u001B[49m\u001B[43mX\u001B[49m\u001B[43m,\u001B[49m\n\u001B[32m   1001\u001B[39m \u001B[43m        \u001B[49m\u001B[43my\u001B[49m\u001B[43m,\u001B[49m\n\u001B[32m   1002\u001B[39m \u001B[43m        \u001B[49m\u001B[43mtrain\u001B[49m\u001B[43m=\u001B[49m\u001B[43mtrain\u001B[49m\u001B[43m,\u001B[49m\n\u001B[32m   1003\u001B[39m \u001B[43m        \u001B[49m\u001B[43mtest\u001B[49m\u001B[43m=\u001B[49m\u001B[43mtest\u001B[49m\u001B[43m,\u001B[49m\n\u001B[32m   1004\u001B[39m \u001B[43m        \u001B[49m\u001B[43mparameters\u001B[49m\u001B[43m=\u001B[49m\u001B[43mparameters\u001B[49m\u001B[43m,\u001B[49m\n\u001B[32m   1005\u001B[39m \u001B[43m        \u001B[49m\u001B[43msplit_progress\u001B[49m\u001B[43m=\u001B[49m\u001B[43m(\u001B[49m\u001B[43msplit_idx\u001B[49m\u001B[43m,\u001B[49m\u001B[43m \u001B[49m\u001B[43mn_splits\u001B[49m\u001B[43m)\u001B[49m\u001B[43m,\u001B[49m\n\u001B[32m   1006\u001B[39m \u001B[43m        \u001B[49m\u001B[43mcandidate_progress\u001B[49m\u001B[43m=\u001B[49m\u001B[43m(\u001B[49m\u001B[43mcand_idx\u001B[49m\u001B[43m,\u001B[49m\u001B[43m \u001B[49m\u001B[43mn_candidates\u001B[49m\u001B[43m)\u001B[49m\u001B[43m,\u001B[49m\n\u001B[32m   1007\u001B[39m \u001B[43m        \u001B[49m\u001B[43m*\u001B[49m\u001B[43m*\u001B[49m\u001B[43mfit_and_score_kwargs\u001B[49m\u001B[43m,\u001B[49m\n\u001B[32m   1008\u001B[39m \u001B[43m    \u001B[49m\u001B[43m)\u001B[49m\n\u001B[32m   1009\u001B[39m \u001B[43m    \u001B[49m\u001B[38;5;28;43;01mfor\u001B[39;49;00m\u001B[43m \u001B[49m\u001B[43m(\u001B[49m\u001B[43mcand_idx\u001B[49m\u001B[43m,\u001B[49m\u001B[43m \u001B[49m\u001B[43mparameters\u001B[49m\u001B[43m)\u001B[49m\u001B[43m,\u001B[49m\u001B[43m \u001B[49m\u001B[43m(\u001B[49m\u001B[43msplit_idx\u001B[49m\u001B[43m,\u001B[49m\u001B[43m \u001B[49m\u001B[43m(\u001B[49m\u001B[43mtrain\u001B[49m\u001B[43m,\u001B[49m\u001B[43m \u001B[49m\u001B[43mtest\u001B[49m\u001B[43m)\u001B[49m\u001B[43m)\u001B[49m\u001B[43m \u001B[49m\u001B[38;5;129;43;01min\u001B[39;49;00m\u001B[43m \u001B[49m\u001B[43mproduct\u001B[49m\u001B[43m(\u001B[49m\n\u001B[32m   1010\u001B[39m \u001B[43m        \u001B[49m\u001B[38;5;28;43menumerate\u001B[39;49m\u001B[43m(\u001B[49m\u001B[43mcandidate_params\u001B[49m\u001B[43m)\u001B[49m\u001B[43m,\u001B[49m\n\u001B[32m   1011\u001B[39m \u001B[43m        \u001B[49m\u001B[38;5;28;43menumerate\u001B[39;49m\u001B[43m(\u001B[49m\u001B[43mcv\u001B[49m\u001B[43m.\u001B[49m\u001B[43msplit\u001B[49m\u001B[43m(\u001B[49m\u001B[43mX\u001B[49m\u001B[43m,\u001B[49m\u001B[43m \u001B[49m\u001B[43my\u001B[49m\u001B[43m,\u001B[49m\u001B[43m \u001B[49m\u001B[43m*\u001B[49m\u001B[43m*\u001B[49m\u001B[43mrouted_params\u001B[49m\u001B[43m.\u001B[49m\u001B[43msplitter\u001B[49m\u001B[43m.\u001B[49m\u001B[43msplit\u001B[49m\u001B[43m)\u001B[49m\u001B[43m)\u001B[49m\u001B[43m,\u001B[49m\n\u001B[32m   1012\u001B[39m \u001B[43m    \u001B[49m\u001B[43m)\u001B[49m\n\u001B[32m   1013\u001B[39m \u001B[43m\u001B[49m\u001B[43m)\u001B[49m\n\u001B[32m   1015\u001B[39m \u001B[38;5;28;01mif\u001B[39;00m \u001B[38;5;28mlen\u001B[39m(out) < \u001B[32m1\u001B[39m:\n\u001B[32m   1016\u001B[39m     \u001B[38;5;28;01mraise\u001B[39;00m \u001B[38;5;167;01mValueError\u001B[39;00m(\n\u001B[32m   1017\u001B[39m         \u001B[33m\"\u001B[39m\u001B[33mNo fits were performed. \u001B[39m\u001B[33m\"\u001B[39m\n\u001B[32m   1018\u001B[39m         \u001B[33m\"\u001B[39m\u001B[33mWas the CV iterator empty? \u001B[39m\u001B[33m\"\u001B[39m\n\u001B[32m   1019\u001B[39m         \u001B[33m\"\u001B[39m\u001B[33mWere there no candidates?\u001B[39m\u001B[33m\"\u001B[39m\n\u001B[32m   1020\u001B[39m     )\n",
      "\u001B[36mFile \u001B[39m\u001B[32m~\\OneDrive\\Pulpit\\Pulpit_\\Studies\\Informatyka\\Eksploracja danych\\projekt\\EDP1EDA\\.venv\\Lib\\site-packages\\sklearn\\utils\\parallel.py:82\u001B[39m, in \u001B[36mParallel.__call__\u001B[39m\u001B[34m(self, iterable)\u001B[39m\n\u001B[32m     73\u001B[39m warning_filters = warnings.filters\n\u001B[32m     74\u001B[39m iterable_with_config_and_warning_filters = (\n\u001B[32m     75\u001B[39m     (\n\u001B[32m     76\u001B[39m         _with_config_and_warning_filters(delayed_func, config, warning_filters),\n\u001B[32m   (...)\u001B[39m\u001B[32m     80\u001B[39m     \u001B[38;5;28;01mfor\u001B[39;00m delayed_func, args, kwargs \u001B[38;5;129;01min\u001B[39;00m iterable\n\u001B[32m     81\u001B[39m )\n\u001B[32m---> \u001B[39m\u001B[32m82\u001B[39m \u001B[38;5;28;01mreturn\u001B[39;00m \u001B[38;5;28;43msuper\u001B[39;49m\u001B[43m(\u001B[49m\u001B[43m)\u001B[49m\u001B[43m.\u001B[49m\u001B[34;43m__call__\u001B[39;49m\u001B[43m(\u001B[49m\u001B[43miterable_with_config_and_warning_filters\u001B[49m\u001B[43m)\u001B[49m\n",
      "\u001B[36mFile \u001B[39m\u001B[32m~\\OneDrive\\Pulpit\\Pulpit_\\Studies\\Informatyka\\Eksploracja danych\\projekt\\EDP1EDA\\.venv\\Lib\\site-packages\\joblib\\parallel.py:2072\u001B[39m, in \u001B[36mParallel.__call__\u001B[39m\u001B[34m(self, iterable)\u001B[39m\n\u001B[32m   2066\u001B[39m \u001B[38;5;66;03m# The first item from the output is blank, but it makes the interpreter\u001B[39;00m\n\u001B[32m   2067\u001B[39m \u001B[38;5;66;03m# progress until it enters the Try/Except block of the generator and\u001B[39;00m\n\u001B[32m   2068\u001B[39m \u001B[38;5;66;03m# reaches the first `yield` statement. This starts the asynchronous\u001B[39;00m\n\u001B[32m   2069\u001B[39m \u001B[38;5;66;03m# dispatch of the tasks to the workers.\u001B[39;00m\n\u001B[32m   2070\u001B[39m \u001B[38;5;28mnext\u001B[39m(output)\n\u001B[32m-> \u001B[39m\u001B[32m2072\u001B[39m \u001B[38;5;28;01mreturn\u001B[39;00m output \u001B[38;5;28;01mif\u001B[39;00m \u001B[38;5;28mself\u001B[39m.return_generator \u001B[38;5;28;01melse\u001B[39;00m \u001B[38;5;28mlist\u001B[39m(output)\n",
      "\u001B[36mFile \u001B[39m\u001B[32m~\\OneDrive\\Pulpit\\Pulpit_\\Studies\\Informatyka\\Eksploracja danych\\projekt\\EDP1EDA\\.venv\\Lib\\site-packages\\joblib\\parallel.py:1682\u001B[39m, in \u001B[36mParallel._get_outputs\u001B[39m\u001B[34m(self, iterator, pre_dispatch)\u001B[39m\n\u001B[32m   1679\u001B[39m     \u001B[38;5;28;01myield\u001B[39;00m\n\u001B[32m   1681\u001B[39m     \u001B[38;5;28;01mwith\u001B[39;00m \u001B[38;5;28mself\u001B[39m._backend.retrieval_context():\n\u001B[32m-> \u001B[39m\u001B[32m1682\u001B[39m         \u001B[38;5;28;01myield from\u001B[39;00m \u001B[38;5;28mself\u001B[39m._retrieve()\n\u001B[32m   1684\u001B[39m \u001B[38;5;28;01mexcept\u001B[39;00m \u001B[38;5;167;01mGeneratorExit\u001B[39;00m:\n\u001B[32m   1685\u001B[39m     \u001B[38;5;66;03m# The generator has been garbage collected before being fully\u001B[39;00m\n\u001B[32m   1686\u001B[39m     \u001B[38;5;66;03m# consumed. This aborts the remaining tasks if possible and warn\u001B[39;00m\n\u001B[32m   1687\u001B[39m     \u001B[38;5;66;03m# the user if necessary.\u001B[39;00m\n\u001B[32m   1688\u001B[39m     \u001B[38;5;28mself\u001B[39m._exception = \u001B[38;5;28;01mTrue\u001B[39;00m\n",
      "\u001B[36mFile \u001B[39m\u001B[32m~\\OneDrive\\Pulpit\\Pulpit_\\Studies\\Informatyka\\Eksploracja danych\\projekt\\EDP1EDA\\.venv\\Lib\\site-packages\\joblib\\parallel.py:1800\u001B[39m, in \u001B[36mParallel._retrieve\u001B[39m\u001B[34m(self)\u001B[39m\n\u001B[32m   1789\u001B[39m \u001B[38;5;28;01mif\u001B[39;00m \u001B[38;5;28mself\u001B[39m.return_ordered:\n\u001B[32m   1790\u001B[39m     \u001B[38;5;66;03m# Case ordered: wait for completion (or error) of the next job\u001B[39;00m\n\u001B[32m   1791\u001B[39m     \u001B[38;5;66;03m# that have been dispatched and not retrieved yet. If no job\u001B[39;00m\n\u001B[32m   (...)\u001B[39m\u001B[32m   1795\u001B[39m     \u001B[38;5;66;03m# control only have to be done on the amount of time the next\u001B[39;00m\n\u001B[32m   1796\u001B[39m     \u001B[38;5;66;03m# dispatched job is pending.\u001B[39;00m\n\u001B[32m   1797\u001B[39m     \u001B[38;5;28;01mif\u001B[39;00m (nb_jobs == \u001B[32m0\u001B[39m) \u001B[38;5;129;01mor\u001B[39;00m (\n\u001B[32m   1798\u001B[39m         \u001B[38;5;28mself\u001B[39m._jobs[\u001B[32m0\u001B[39m].get_status(timeout=\u001B[38;5;28mself\u001B[39m.timeout) == TASK_PENDING\n\u001B[32m   1799\u001B[39m     ):\n\u001B[32m-> \u001B[39m\u001B[32m1800\u001B[39m         time.sleep(\u001B[32m0.01\u001B[39m)\n\u001B[32m   1801\u001B[39m         \u001B[38;5;28;01mcontinue\u001B[39;00m\n\u001B[32m   1803\u001B[39m \u001B[38;5;28;01melif\u001B[39;00m nb_jobs == \u001B[32m0\u001B[39m:\n\u001B[32m   1804\u001B[39m     \u001B[38;5;66;03m# Case unordered: jobs are added to the list of jobs to\u001B[39;00m\n\u001B[32m   1805\u001B[39m     \u001B[38;5;66;03m# retrieve `self._jobs` only once completed or in error, which\u001B[39;00m\n\u001B[32m   (...)\u001B[39m\u001B[32m   1811\u001B[39m     \u001B[38;5;66;03m# timeouts before any other dispatched job has completed and\u001B[39;00m\n\u001B[32m   1812\u001B[39m     \u001B[38;5;66;03m# been added to `self._jobs` to be retrieved.\u001B[39;00m\n",
      "\u001B[31mKeyboardInterrupt\u001B[39m: "
     ]
    }
   ],
   "execution_count": 15
  },
  {
   "metadata": {},
   "cell_type": "code",
   "outputs": [],
   "execution_count": null,
   "source": "",
   "id": "5034638799dc994f"
  },
  {
   "metadata": {
    "ExecuteTime": {
     "end_time": "2025-06-13T10:30:54.911982Z",
     "start_time": "2025-06-13T10:30:54.443823Z"
    }
   },
   "cell_type": "code",
   "source": [
    "#Only most correlated features\n",
    "target = 'match'\n",
    "corr_with_target = train_set.corr(method='spearman')[target]\n",
    "top_corr = corr_with_target.drop(target).abs().sort_values(ascending=False).head(50)\n",
    "\n",
    "train_set = pd.read_csv('train_data.csv')\n",
    "test_set = pd.read_csv('test_data.csv')\n",
    "train_set.drop(['Unnamed: 0', 'zipcode', 'from', 'positin1', 'undergra', 'income', 'mn_sat', 'tuition', 'id', 'iid', 'dec', 'dec_o'], inplace=True, axis=1)\n",
    "test_set.drop(['Unnamed: 0', 'zipcode', 'from', 'positin1', 'undergra', 'income', 'mn_sat', 'tuition', 'id', 'iid', 'dec', 'dec_o'], inplace=True, axis=1)\n",
    "X_train = train_set.drop(['match'], axis=1)\n",
    "X_train = X_train[np.array(top_corr.index)]\n",
    "columns = X_train.columns\n",
    "y_train = train_set['match']\n",
    "X_test = test_set.drop(['match'], axis=1)\n",
    "X_test = X_test[np.array(top_corr.index)]\n",
    "y_test = test_set['match']\n",
    "#Standarization\n",
    "scaler = StandardScaler()\n",
    "X_train = scaler.fit_transform(X_train)\n",
    "#X_test = scaler.transform(X_test) # NOT FIT TRANSFORM\n",
    "print(np.std(X_train))\n",
    "print(abs(round(np.mean(X_train), 17)))\n",
    "\n"
   ],
   "id": "6681be25a75ffdfa",
   "outputs": [
    {
     "name": "stdout",
     "output_type": "stream",
     "text": [
      "1.0\n",
      "1e-17\n"
     ]
    }
   ],
   "execution_count": 123
  },
  {
   "metadata": {
    "ExecuteTime": {
     "end_time": "2025-06-13T10:16:29.062069Z",
     "start_time": "2025-06-13T10:16:28.864340Z"
    }
   },
   "cell_type": "code",
   "source": [
    "log_reg = LogisticRegression(penalty=\"l1\", C=0.01, class_weight=\"balanced\", solver=\"liblinear\")\n",
    "scores = cross_val_score(log_reg, X_train, y_train , cv=5, n_jobs=-1, scoring='f1')\n",
    "print(scores)\n",
    "print(scores.mean())\n",
    "print(scores.std())"
   ],
   "id": "ac276407d175bbde",
   "outputs": [
    {
     "name": "stdout",
     "output_type": "stream",
     "text": [
      "[0.39325843 0.42201835 0.45977011 0.4295302  0.50420168]\n",
      "0.441755754509445\n",
      "0.0377227543965429\n"
     ]
    }
   ],
   "execution_count": 85
  },
  {
   "metadata": {
    "ExecuteTime": {
     "end_time": "2025-06-13T10:19:30.451606Z",
     "start_time": "2025-06-13T10:19:30.397064Z"
    }
   },
   "cell_type": "code",
   "source": [
    "log_reg = LogisticRegression(penalty=\"l1\", C=0.01, class_weight=\"balanced\", solver=\"liblinear\")\n",
    "log_reg.fit(X_test, y_test)\n",
    "y_pred = log_reg.predict(X_test)\n",
    "classification_report = classification_report(y_test, y_pred)\n",
    "print(classification_report)\n"
   ],
   "id": "2541f289847497eb",
   "outputs": [
    {
     "name": "stdout",
     "output_type": "stream",
     "text": [
      "              precision    recall  f1-score   support\n",
      "\n",
      "           0       0.95      0.77      0.85      1105\n",
      "           1       0.43      0.80      0.56       242\n",
      "\n",
      "    accuracy                           0.77      1347\n",
      "   macro avg       0.69      0.78      0.70      1347\n",
      "weighted avg       0.85      0.77      0.79      1347\n",
      "\n"
     ]
    }
   ],
   "execution_count": 96
  },
  {
   "metadata": {
    "ExecuteTime": {
     "end_time": "2025-06-13T10:30:58.849489Z",
     "start_time": "2025-06-13T10:30:58.800560Z"
    }
   },
   "cell_type": "code",
   "source": [
    "log_reg = LogisticRegression(penalty=\"l1\", C=0.01, class_weight=\"balanced\", solver=\"liblinear\")\n",
    "log_reg.fit(X_test, y_test)\n",
    "y_proba = log_reg.predict_proba(X_test)[:, 1]\n",
    "y_pred = (y_proba >= 0.58).astype(int)\n",
    "classification_report_ = classification_report(y_test, y_pred)\n",
    "print(classification_report_)\n"
   ],
   "id": "fa4bcd0531098d42",
   "outputs": [
    {
     "name": "stdout",
     "output_type": "stream",
     "text": [
      "              precision    recall  f1-score   support\n",
      "\n",
      "           0       0.89      0.84      0.87      1105\n",
      "           1       0.43      0.54      0.48       242\n",
      "\n",
      "    accuracy                           0.79      1347\n",
      "   macro avg       0.66      0.69      0.67      1347\n",
      "weighted avg       0.81      0.79      0.80      1347\n",
      "\n"
     ]
    }
   ],
   "execution_count": 124
  },
  {
   "metadata": {
    "ExecuteTime": {
     "end_time": "2025-06-13T10:27:58.609665Z",
     "start_time": "2025-06-13T10:27:58.412836Z"
    }
   },
   "cell_type": "code",
   "source": [
    "plot = ConfusionMatrixDisplay.from_predictions(y_test, y_pred)\n",
    "plot.figure_.savefig('ConfusionMatrix2.png', bbox_inches='tight')"
   ],
   "id": "376ae17b7b42173",
   "outputs": [
    {
     "data": {
      "text/plain": [
       "<Figure size 640x480 with 2 Axes>"
      ],
      "image/png": "[encoded data removed]"
     },
     "metadata": {},
     "output_type": "display_data"
    }
   ],
   "execution_count": 119
  },
  {
   "metadata": {
    "ExecuteTime": {
     "end_time": "2025-06-13T10:29:13.230786Z",
     "start_time": "2025-06-13T10:29:13.151357Z"
    }
   },
   "cell_type": "code",
   "source": [
    "importances = log_reg.fit(X_train, y_train).coef_\n",
    "imp_df = pd.DataFrame({'Feature': columns, 'Coefficient': importances.flatten()})\n",
    "imp_df.sort_values(ascending = False, by = 'Coefficient', inplace = True)\n",
    "print(imp_df)\n",
    "imp_df.to_csv('logistic_regression_importances.csv', index = False)"
   ],
   "id": "4693d8dabe843c5a",
   "outputs": [
    {
     "name": "stdout",
     "output_type": "stream",
     "text": [
      "      Feature  Coefficient\n",
      "0        like     0.485069\n",
      "1      like_o     0.416771\n",
      "6        attr     0.272658\n",
      "7      attr_o     0.269559\n",
      "9      prob_o     0.229797\n",
      "..        ...          ...\n",
      "174    fun5_2     0.000000\n",
      "60    attr3_1    -0.002847\n",
      "138  shopping    -0.005189\n",
      "26     condtn    -0.007301\n",
      "40     amb4_1    -0.037483\n",
      "\n",
      "[181 rows x 2 columns]\n"
     ]
    }
   ],
   "execution_count": 120
  },
  {
   "metadata": {
    "ExecuteTime": {
     "end_time": "2025-06-13T10:12:13.259407Z",
     "start_time": "2025-06-13T10:12:13.195035Z"
    }
   },
   "cell_type": "code",
   "source": [
    "log_reg = LogisticRegression(penalty=\"l1\", C=0.01, class_weight=\"balanced\", solver=\"liblinear\")\n",
    "importances = log_reg.fit(X_train, y_train).coef_\n",
    "imp_df = pd.DataFrame({'Feature': columns, 'Coefficient': importances.flatten()})\n",
    "imp_df.sort_values(ascending = False, by = 'Coefficient', inplace = True)\n",
    "print(imp_df)"
   ],
   "id": "ad76553a92ba8ace",
   "outputs": [
    {
     "name": "stdout",
     "output_type": "stream",
     "text": [
      "      Feature  Coefficient\n",
      "0        like     0.484469\n",
      "1      like_o     0.415477\n",
      "6        attr     0.271280\n",
      "7      attr_o     0.269019\n",
      "9      prob_o     0.228730\n",
      "..        ...          ...\n",
      "145   sinc2_1     0.000000\n",
      "60    attr3_1    -0.002992\n",
      "138  shopping    -0.003061\n",
      "26     condtn    -0.007274\n",
      "40     amb4_1    -0.034388\n",
      "\n",
      "[150 rows x 2 columns]\n"
     ]
    }
   ],
   "execution_count": 78
  },
  {
   "metadata": {
    "ExecuteTime": {
     "end_time": "2025-06-13T10:15:04.330297Z",
     "start_time": "2025-06-13T10:15:04.097229Z"
    }
   },
   "cell_type": "code",
   "source": [
    "log_reg = LogisticRegression(penalty=\"l1\", C=0.01, class_weight=\"balanced\", solver=\"liblinear\")\n",
    "log_reg.fit(X_train, y_train)\n",
    "y_pred = log_reg.predict(X_test)\n",
    "score = f1_score (y_test, y_pred)\n",
    "print(score)\n",
    "ConfusionMatrixDisplay.from_predictions(y_test, y_pred)"
   ],
   "id": "d49f624ffa15fb65",
   "outputs": [
    {
     "name": "stdout",
     "output_type": "stream",
     "text": [
      "0.30459408432976715\n"
     ]
    },
    {
     "name": "stderr",
     "output_type": "stream",
     "text": [
      "C:\\Users\\olab0\\OneDrive\\Pulpit\\Pulpit_\\Studies\\Informatyka\\Eksploracja danych\\projekt\\EDP1EDA\\.venv\\Lib\\site-packages\\sklearn\\utils\\validation.py:2742: UserWarning: X has feature names, but LogisticRegression was fitted without feature names\n",
      "  warnings.warn(\n"
     ]
    },
    {
     "data": {
      "text/plain": [
       "<sklearn.metrics._plot.confusion_matrix.ConfusionMatrixDisplay at 0x1975d3e5850>"
      ]
     },
     "execution_count": 83,
     "metadata": {},
     "output_type": "execute_result"
    },
    {
     "data": {
      "text/plain": [
       "<Figure size 640x480 with 2 Axes>"
      ],
      "image/png": "[encoded data removed]"
     },
     "metadata": {},
     "output_type": "display_data"
    }
   ],
   "execution_count": 83
  },
  {
   "metadata": {},
   "cell_type": "code",
   "outputs": [],
   "execution_count": null,
   "source": "",
   "id": "903a34c60eb5b583"
  }
 ],
 "metadata": {
  "kernelspec": {
   "display_name": "Python 3",
   "language": "python",
   "name": "python3"
  },
  "language_info": {
   "codemirror_mode": {
    "name": "ipython",
    "version": 2
   },
   "file_extension": ".py",
   "mimetype": "text/x-python",
   "name": "python",
   "nbconvert_exporter": "python",
   "pygments_lexer": "ipython2",
   "version": "2.7.6"
  }
 },
 "nbformat": 4,
 "nbformat_minor": 5
}
