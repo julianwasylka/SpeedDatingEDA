{
 "cells": [
  {
   "cell_type": "code",
   "id": "initial_id",
   "metadata": {
    "collapsed": true,
    "ExecuteTime": {
     "end_time": "2025-06-12T23:01:56.415159Z",
     "start_time": "2025-06-12T23:01:56.404789Z"
    }
   },
   "source": [
    "from sklearn.linear_model import LogisticRegression\n",
    "from sklearn.model_selection import cross_val_score\n",
    "from sklearn.model_selection import GridSearchCV\n",
    "from sklearn.metrics import classification_report\n",
    "from sklearn.metrics import confusion_matrix\n",
    "from sklearn.metrics import f1_score\n",
    "from sklearn.metrics import ConfusionMatrixDisplay\n",
    "import pandas as pd\n",
    "from sklearn.preprocessing import StandardScaler\n",
    "import numpy as np"
   ],
   "outputs": [],
   "execution_count": 152
  },
  {
   "metadata": {
    "ExecuteTime": {
     "end_time": "2025-06-12T23:03:00.048954Z",
     "start_time": "2025-06-12T23:02:59.782348Z"
    }
   },
   "cell_type": "code",
   "source": [
    "train_set = pd.read_csv('train_data.csv')\n",
    "test_set = pd.read_csv('test_data.csv')\n",
    "train_set.drop(['Unnamed: 0', 'zipcode', 'from', 'positin1', 'undergra', 'income', 'mn_sat', 'tuition', 'id', 'iid'], inplace=True, axis=1)\n",
    "test_set.drop(['Unnamed: 0', 'zipcode', 'from', 'positin1', 'undergra', 'income', 'mn_sat', 'tuition', 'id', 'iid'], inplace=True, axis=1)\n",
    "X_train = train_set.drop(['match'], axis=1)\n",
    "columns = X_train.columns\n",
    "y_train = train_set['match']\n",
    "X_test = test_set.drop(['match'], axis=1)\n",
    "y_test = test_set['match']"
   ],
   "id": "5194f579037939b9",
   "outputs": [],
   "execution_count": 157
  },
  {
   "metadata": {
    "ExecuteTime": {
     "end_time": "2025-06-12T23:03:08.820374Z",
     "start_time": "2025-06-12T23:03:08.755215Z"
    }
   },
   "cell_type": "code",
   "source": [
    "#Standarization\n",
    "scaler = StandardScaler()\n",
    "X_train = scaler.fit_transform(X_train)\n",
    "#X_test = scaler.transform(X_test) # NOT FIT TRANSFORM\n",
    "print(np.std(X_train))\n",
    "print(abs(round(np.mean(X_train), 17)))"
   ],
   "id": "a3aa0de01f21d579",
   "outputs": [
    {
     "name": "stdout",
     "output_type": "stream",
     "text": [
      "0.9999999999999999\n",
      "1e-17\n"
     ]
    }
   ],
   "execution_count": 159
  },
  {
   "metadata": {
    "ExecuteTime": {
     "end_time": "2025-06-12T23:03:11.917364Z",
     "start_time": "2025-06-12T23:03:11.004382Z"
    }
   },
   "cell_type": "code",
   "source": [
    "#Before removing dec\n",
    "log_reg = LogisticRegression(C = 1.0, penalty = \"l2\",solver = 'liblinear')\n",
    "\n",
    "scores = cross_val_score(log_reg, X_train, y_train, cv=5, n_jobs=-1, scoring='f1')\n",
    "\n",
    "print(scores)\n",
    "print(scores.mean())\n",
    "print(scores.std())"
   ],
   "id": "754ad200b36d1cff",
   "outputs": [
    {
     "name": "stdout",
     "output_type": "stream",
     "text": [
      "[0.98123324 0.42020666 0.98918919 1.         0.99186992]\n",
      "0.8764998021737668\n",
      "0.2282253215232788\n"
     ]
    }
   ],
   "execution_count": 160
  },
  {
   "metadata": {
    "ExecuteTime": {
     "end_time": "2025-06-12T23:03:14.974317Z",
     "start_time": "2025-06-12T23:03:14.410570Z"
    }
   },
   "cell_type": "code",
   "source": [
    "importances = log_reg.fit(X_train, y_train).coef_\n",
    "imp_df = pd.DataFrame({'Feature': columns, 'Coefficient': importances.flatten()})\n",
    "imp_df.sort_values(ascending = False, by = 'Coefficient', inplace = True)\n",
    "print(imp_df)"
   ],
   "id": "3af2533b27d5e3e6",
   "outputs": [
    {
     "name": "stdout",
     "output_type": "stream",
     "text": [
      "     Feature  Coefficient\n",
      "19     dec_o     4.980671\n",
      "85       dec     4.932351\n",
      "86      attr     0.152839\n",
      "20    attr_o     0.135967\n",
      "140  sinc5_2     0.091390\n",
      "..       ...          ...\n",
      "67    amb4_1    -0.061204\n",
      "90       amb    -0.061579\n",
      "105   fun3_s    -0.084525\n",
      "2     condtn    -0.087471\n",
      "127  shar4_2    -0.088011\n",
      "\n",
      "[183 rows x 2 columns]\n"
     ]
    }
   ],
   "execution_count": 161
  },
  {
   "metadata": {
    "ExecuteTime": {
     "end_time": "2025-06-12T23:03:22.817982Z",
     "start_time": "2025-06-12T23:03:22.801477Z"
    }
   },
   "cell_type": "code",
   "source": [
    "train_set.drop(['dec', 'dec_o'], inplace=True, axis=1)\n",
    "test_set.drop(['dec', 'dec_o'], inplace=True, axis=1)\n",
    "\n"
   ],
   "id": "45d41481616cbc09",
   "outputs": [],
   "execution_count": 162
  },
  {
   "metadata": {
    "ExecuteTime": {
     "end_time": "2025-06-12T23:04:24.980588Z",
     "start_time": "2025-06-12T23:04:24.962462Z"
    }
   },
   "cell_type": "code",
   "source": [
    "X_train = train_set.drop(['match'], axis=1)\n",
    "X_test = test_set.drop(['match'], axis=1)\n",
    "columns = X_train.columns"
   ],
   "id": "86ff83611f10e69e",
   "outputs": [],
   "execution_count": 168
  },
  {
   "metadata": {
    "ExecuteTime": {
     "end_time": "2025-06-12T23:03:30.517380Z",
     "start_time": "2025-06-12T23:03:26.600980Z"
    }
   },
   "cell_type": "code",
   "source": [
    "#First attempt\n",
    "log_reg = LogisticRegression(C = 1.0, penalty = \"l2\",solver = 'liblinear')\n",
    "\n",
    "scores = cross_val_score(log_reg, X_train, y_train, cv=5, n_jobs=-1, scoring='f1')\n",
    "\n",
    "print(scores)\n",
    "print(scores.mean())\n",
    "print(scores.std())"
   ],
   "id": "8d5710cd5c87fde2",
   "outputs": [
    {
     "name": "stdout",
     "output_type": "stream",
     "text": [
      "[0.52193995 0.33401222 0.42857143 0.37878788 0.2662116 ]\n",
      "0.38590461704495216\n",
      "0.08648231708552474\n"
     ]
    }
   ],
   "execution_count": 164
  },
  {
   "metadata": {
    "ExecuteTime": {
     "end_time": "2025-06-12T23:04:35.790081Z",
     "start_time": "2025-06-12T23:04:32.936336Z"
    }
   },
   "cell_type": "code",
   "source": [
    "importances = log_reg.fit(X_train, y_train).coef_\n",
    "imp_df = pd.DataFrame({'Feature': columns, 'Coefficient': importances.flatten()})\n",
    "imp_df.sort_values(ascending = False, by = 'Coefficient', inplace = True)"
   ],
   "id": "53dd04c60ce6a11b",
   "outputs": [],
   "execution_count": 169
  },
  {
   "metadata": {
    "ExecuteTime": {
     "end_time": "2025-06-12T23:04:46.775888Z",
     "start_time": "2025-06-12T23:04:46.758339Z"
    }
   },
   "cell_type": "code",
   "source": "imp_df",
   "id": "9de109b9d74b7dce",
   "outputs": [
    {
     "data": {
      "text/plain": [
       "      Feature  Coefficient\n",
       "9    int_corr     0.379655\n",
       "90       like     0.354235\n",
       "25     like_o     0.314818\n",
       "146  num_in_3     0.305976\n",
       "19     attr_o     0.269968\n",
       "..        ...          ...\n",
       "134  intel3_2    -0.157824\n",
       "10   samerace    -0.178568\n",
       "177   sinc5_3    -0.182714\n",
       "103    fun3_s    -0.193990\n",
       "2      condtn    -1.351030\n",
       "\n",
       "[181 rows x 2 columns]"
      ],
      "text/html": [
       "<div>\n",
       "<style scoped>\n",
       "    .dataframe tbody tr th:only-of-type {\n",
       "        vertical-align: middle;\n",
       "    }\n",
       "\n",
       "    .dataframe tbody tr th {\n",
       "        vertical-align: top;\n",
       "    }\n",
       "\n",
       "    .dataframe thead th {\n",
       "        text-align: right;\n",
       "    }\n",
       "</style>\n",
       "<table border=\"1\" class=\"dataframe\">\n",
       "  <thead>\n",
       "    <tr style=\"text-align: right;\">\n",
       "      <th></th>\n",
       "      <th>Feature</th>\n",
       "      <th>Coefficient</th>\n",
       "    </tr>\n",
       "  </thead>\n",
       "  <tbody>\n",
       "    <tr>\n",
       "      <th>9</th>\n",
       "      <td>int_corr</td>\n",
       "      <td>0.379655</td>\n",
       "    </tr>\n",
       "    <tr>\n",
       "      <th>90</th>\n",
       "      <td>like</td>\n",
       "      <td>0.354235</td>\n",
       "    </tr>\n",
       "    <tr>\n",
       "      <th>25</th>\n",
       "      <td>like_o</td>\n",
       "      <td>0.314818</td>\n",
       "    </tr>\n",
       "    <tr>\n",
       "      <th>146</th>\n",
       "      <td>num_in_3</td>\n",
       "      <td>0.305976</td>\n",
       "    </tr>\n",
       "    <tr>\n",
       "      <th>19</th>\n",
       "      <td>attr_o</td>\n",
       "      <td>0.269968</td>\n",
       "    </tr>\n",
       "    <tr>\n",
       "      <th>...</th>\n",
       "      <td>...</td>\n",
       "      <td>...</td>\n",
       "    </tr>\n",
       "    <tr>\n",
       "      <th>134</th>\n",
       "      <td>intel3_2</td>\n",
       "      <td>-0.157824</td>\n",
       "    </tr>\n",
       "    <tr>\n",
       "      <th>10</th>\n",
       "      <td>samerace</td>\n",
       "      <td>-0.178568</td>\n",
       "    </tr>\n",
       "    <tr>\n",
       "      <th>177</th>\n",
       "      <td>sinc5_3</td>\n",
       "      <td>-0.182714</td>\n",
       "    </tr>\n",
       "    <tr>\n",
       "      <th>103</th>\n",
       "      <td>fun3_s</td>\n",
       "      <td>-0.193990</td>\n",
       "    </tr>\n",
       "    <tr>\n",
       "      <th>2</th>\n",
       "      <td>condtn</td>\n",
       "      <td>-1.351030</td>\n",
       "    </tr>\n",
       "  </tbody>\n",
       "</table>\n",
       "<p>181 rows × 2 columns</p>\n",
       "</div>"
      ]
     },
     "execution_count": 171,
     "metadata": {},
     "output_type": "execute_result"
    }
   ],
   "execution_count": 171
  },
  {
   "metadata": {
    "ExecuteTime": {
     "end_time": "2025-06-12T23:07:22.617235Z",
     "start_time": "2025-06-12T23:05:28.015953Z"
    }
   },
   "cell_type": "code",
   "source": [
    "#Hyperparameter tuning\n",
    "param_grid = {\"C\":[0.001, 0.01, 0.1, 0.5, 1.0, 10.0, 20.0, 50.0], \"penalty\": [\"l1\", \"l2\"], \"solver\": [\"liblinear\"]}\n",
    "#param_grid = {\"C\":[0.1, 0.5, 1.0, 10.0, 20.0, 50.0], \"penalty\": [\"l2\"], \"solver\": [\"liblinear\"]}\n",
    "log_reg_clf = LogisticRegression()\n",
    "\n",
    "\n",
    "grid_search = GridSearchCV(log_reg_clf, param_grid, cv=5, n_jobs=-1, scoring='f1')\n",
    "grid_search.fit(X_train, y_train)\n",
    "\n",
    "cv_res = grid_search.cv_results_\n",
    "\n",
    "for mean_score, params in zip(cv_res['mean_test_score'], cv_res['params']):\n",
    "    print(mean_score, params)\n",
    "    "
   ],
   "id": "90e35db947f2a11c",
   "outputs": [
    {
     "name": "stdout",
     "output_type": "stream",
     "text": [
      "0.0 {'C': 0.001, 'penalty': 'l1', 'solver': 'liblinear'}\n",
      "0.3594082305926723 {'C': 0.001, 'penalty': 'l2', 'solver': 'liblinear'}\n",
      "0.38787107204381704 {'C': 0.01, 'penalty': 'l1', 'solver': 'liblinear'}\n",
      "0.39076293516522675 {'C': 0.01, 'penalty': 'l2', 'solver': 'liblinear'}\n",
      "0.4175543246065822 {'C': 0.1, 'penalty': 'l1', 'solver': 'liblinear'}\n",
      "0.3878046854741757 {'C': 0.1, 'penalty': 'l2', 'solver': 'liblinear'}\n",
      "0.4072593164278307 {'C': 0.5, 'penalty': 'l1', 'solver': 'liblinear'}\n",
      "0.39130076249194 {'C': 0.5, 'penalty': 'l2', 'solver': 'liblinear'}\n",
      "0.40389690765330155 {'C': 1.0, 'penalty': 'l1', 'solver': 'liblinear'}\n",
      "0.38590461704495216 {'C': 1.0, 'penalty': 'l2', 'solver': 'liblinear'}\n",
      "0.3974601518236349 {'C': 10.0, 'penalty': 'l1', 'solver': 'liblinear'}\n",
      "0.3797578514163858 {'C': 10.0, 'penalty': 'l2', 'solver': 'liblinear'}\n",
      "0.39396843665802744 {'C': 20.0, 'penalty': 'l1', 'solver': 'liblinear'}\n",
      "0.37823581714140464 {'C': 20.0, 'penalty': 'l2', 'solver': 'liblinear'}\n",
      "0.39394843385769857 {'C': 50.0, 'penalty': 'l1', 'solver': 'liblinear'}\n",
      "0.3803048717676988 {'C': 50.0, 'penalty': 'l2', 'solver': 'liblinear'}\n"
     ]
    }
   ],
   "execution_count": 173
  },
  {
   "metadata": {
    "ExecuteTime": {
     "end_time": "2025-06-12T23:21:43.937772Z",
     "start_time": "2025-06-12T23:14:53.852196Z"
    }
   },
   "cell_type": "code",
   "source": [
    "#Hyperparameter tuning - version with balanced classes\n",
    "param_grid = {\"C\":[0.001, 0.01, 0.1, 0.5, 1.0, 10.0, 20.0, 50.0], \"penalty\": [\"l1\", \"l2\"], \"solver\": [\"liblinear\"], \"class_weight\":['balanced']}\n",
    "#param_grid = {\"C\":[0.1, 0.5, 1.0, 10.0, 20.0, 50.0], \"penalty\": [\"l2\"], \"solver\": [\"liblinear\"]}\n",
    "log_reg_clf = LogisticRegression()\n",
    "\n",
    "\n",
    "grid_search = GridSearchCV(log_reg_clf, param_grid, cv=5, n_jobs=-1, scoring='f1')\n",
    "grid_search.fit(X_train, y_train)\n",
    "\n",
    "cv_res = grid_search.cv_results_\n",
    "\n",
    "for mean_score, params in zip(cv_res['mean_test_score'], cv_res['params']):\n",
    "    print(mean_score, params)"
   ],
   "id": "b1424f87fa7f8108",
   "outputs": [
    {
     "name": "stdout",
     "output_type": "stream",
     "text": [
      "0.4310632207533788 {'C': 0.001, 'class_weight': 'balanced', 'penalty': 'l1', 'solver': 'liblinear'}\n",
      "0.45228360434858683 {'C': 0.001, 'class_weight': 'balanced', 'penalty': 'l2', 'solver': 'liblinear'}\n",
      "0.47807750012368794 {'C': 0.01, 'class_weight': 'balanced', 'penalty': 'l1', 'solver': 'liblinear'}\n",
      "0.4343943790565207 {'C': 0.01, 'class_weight': 'balanced', 'penalty': 'l2', 'solver': 'liblinear'}\n",
      "0.4458570139623873 {'C': 0.1, 'class_weight': 'balanced', 'penalty': 'l1', 'solver': 'liblinear'}\n",
      "0.4231803311107498 {'C': 0.1, 'class_weight': 'balanced', 'penalty': 'l2', 'solver': 'liblinear'}\n",
      "0.42897216569258934 {'C': 0.5, 'class_weight': 'balanced', 'penalty': 'l1', 'solver': 'liblinear'}\n",
      "0.42330112279166954 {'C': 0.5, 'class_weight': 'balanced', 'penalty': 'l2', 'solver': 'liblinear'}\n",
      "0.42658323826704825 {'C': 1.0, 'class_weight': 'balanced', 'penalty': 'l1', 'solver': 'liblinear'}\n",
      "0.4242951232940162 {'C': 1.0, 'class_weight': 'balanced', 'penalty': 'l2', 'solver': 'liblinear'}\n",
      "0.4299530934801584 {'C': 10.0, 'class_weight': 'balanced', 'penalty': 'l1', 'solver': 'liblinear'}\n",
      "0.42872401029790713 {'C': 10.0, 'class_weight': 'balanced', 'penalty': 'l2', 'solver': 'liblinear'}\n",
      "0.4289246923107409 {'C': 20.0, 'class_weight': 'balanced', 'penalty': 'l1', 'solver': 'liblinear'}\n",
      "0.4285531674095247 {'C': 20.0, 'class_weight': 'balanced', 'penalty': 'l2', 'solver': 'liblinear'}\n",
      "0.4282501714297924 {'C': 50.0, 'class_weight': 'balanced', 'penalty': 'l1', 'solver': 'liblinear'}\n",
      "0.4270066205721125 {'C': 50.0, 'class_weight': 'balanced', 'penalty': 'l2', 'solver': 'liblinear'}\n"
     ]
    }
   ],
   "execution_count": 176
  },
  {
   "metadata": {},
   "cell_type": "code",
   "outputs": [],
   "execution_count": null,
   "source": [
    "#Only most correlated features\n",
    "target = 'match'\n",
    "corr_with_target = train_set.corr(method='spearman')[target]\n",
    "top_corr = corr_with_target.drop(target).abs().sort_values(ascending=False).head(40)\n",
    "\n",
    "train_set = pd.read_csv('train_data.csv')\n",
    "test_set = pd.read_csv('test_data.csv')\n",
    "train_set.drop(['Unnamed: 0', 'zipcode', 'from', 'positin1', 'undergra', 'income', 'mn_sat', 'tuition', 'id', 'iid'], inplace=True, axis=1)\n",
    "test_set.drop(['Unnamed: 0', 'zipcode', 'from', 'positin1', 'undergra', 'income', 'mn_sat', 'tuition', 'id', 'iid'], inplace=True, axis=1)\n",
    "X_train = train_set.drop(['match'], axis=1)\n",
    "X_train = X_train[np.array(top_corr.index)]\n",
    "columns = X_train.columns\n",
    "y_train = train_set['match']\n",
    "X_test = test_set.drop(['match'], axis=1)\n",
    "X_test = X_test[np.array(top_corr.index)]\n",
    "y_test = test_set['match']\n",
    "#Standarization\n",
    "scaler = StandardScaler()\n",
    "X_train = scaler.fit_transform(X_train)\n",
    "#X_test = scaler.transform(X_test) # NOT FIT TRANSFORM\n",
    "print(np.std(X_train))\n",
    "print(abs(round(np.mean(X_train), 17)))\n",
    "\n"
   ],
   "id": "6681be25a75ffdfa"
  },
  {
   "metadata": {
    "ExecuteTime": {
     "end_time": "2025-06-12T22:45:01.850483Z",
     "start_time": "2025-06-12T22:45:01.839362Z"
    }
   },
   "cell_type": "code",
   "source": [
    "log_reg = LogisticRegression(...)\n",
    "importances = log_reg.fit(X_train, y_train).coef_\n",
    "imp_df = pd.DataFrame({'Feature': columns, 'Coefficient': importances.flatten()})\n",
    "imp_df.sort_values(ascending = False, by = 'Coefficient', inplace = True)\n",
    "print(imp_df)"
   ],
   "id": "ad76553a92ba8ace",
   "outputs": [
    {
     "data": {
      "text/plain": [
       "array(['like', 'like_o', 'fun_o', 'fun', 'shar_o', 'shar', 'attr',\n",
       "       'attr_o', 'prob', 'prob_o', 'intel', 'intel_o', 'sinc_o', 'sinc',\n",
       "       'amb', 'amb_o', 'met_o', 'them_cal', 'date_3', 'match_es',\n",
       "       'numdat_3', 'num_in_3', 'clubbing', 'fun3_2', 'satis_2', 'sinc4_1',\n",
       "       'condtn', 'fun1_2', 'date', 'go_out', 'imprace', 'fun3_1',\n",
       "       'shar1_1', 'you_call', 'pf_o_sha', 'int_corr', 'expnum', 'age',\n",
       "       'art', 'age_o'], dtype=object)"
      ]
     },
     "execution_count": 106,
     "metadata": {},
     "output_type": "execute_result"
    }
   ],
   "execution_count": 106
  },
  {
   "metadata": {},
   "cell_type": "code",
   "outputs": [],
   "execution_count": null,
   "source": [
    "log_reg = LogisticRegression(...)\n",
    "log_reg.fit(X_train, y_train)\n",
    "y_pred = log_reg(X_test)\n",
    "score = f1_score (y_test, y_pred)\n",
    "print(score)\n",
    "ConfusionMatrixDisplay(log_reg, X_test, y_test)"
   ],
   "id": "d49f624ffa15fb65"
  }
 ],
 "metadata": {
  "kernelspec": {
   "display_name": "Python 3",
   "language": "python",
   "name": "python3"
  },
  "language_info": {
   "codemirror_mode": {
    "name": "ipython",
    "version": 2
   },
   "file_extension": ".py",
   "mimetype": "text/x-python",
   "name": "python",
   "nbconvert_exporter": "python",
   "pygments_lexer": "ipython2",
   "version": "2.7.6"
  }
 },
 "nbformat": 4,
 "nbformat_minor": 5
}
