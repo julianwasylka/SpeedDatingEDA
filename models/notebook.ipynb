{
 "cells": [
  {
   "metadata": {
    "ExecuteTime": {
     "end_time": "2025-06-12T11:43:51.617561Z",
     "start_time": "2025-06-12T11:43:51.614367Z"
    }
   },
   "cell_type": "code",
   "source": [
    "import pandas as pd\n",
    "import os\n",
    "import numpy as np"
   ],
   "id": "e54eab9f0e6f62dd",
   "outputs": [],
   "execution_count": 112
  },
  {
   "metadata": {},
   "cell_type": "markdown",
   "source": "# Load the data",
   "id": "1ea2821fb09c2923"
  },
  {
   "metadata": {
    "ExecuteTime": {
     "end_time": "2025-06-12T11:43:51.773908Z",
     "start_time": "2025-06-12T11:43:51.666565Z"
    }
   },
   "cell_type": "code",
   "source": [
    "a = os.path.join(\"..\", \"data\", \"Speed Dating Data.csv\")\n",
    "\n",
    "df = pd.read_csv(a, encoding='ISO-8859-1')\n",
    "\n"
   ],
   "id": "b06147b10366985a",
   "outputs": [],
   "execution_count": 113
  },
  {
   "metadata": {
    "ExecuteTime": {
     "end_time": "2025-06-12T11:43:51.782780Z",
     "start_time": "2025-06-12T11:43:51.777901Z"
    }
   },
   "cell_type": "code",
   "source": [
    "# iid: \tunique subject number, group(wave id gender)\n",
    "\n",
    "people_participated = len(df['iid'].unique())\n",
    "dates_occured = len(df.index)\n",
    "\n",
    "print(str(people_participated), \"people have participated\\n\" + str(dates_occured), \"dates occured\")"
   ],
   "id": "dfce318ccf28a2f5",
   "outputs": [
    {
     "name": "stdout",
     "output_type": "stream",
     "text": [
      "551 people have participated\n",
      "8378 dates occured\n"
     ]
    }
   ],
   "execution_count": 114
  },
  {
   "metadata": {},
   "cell_type": "markdown",
   "source": "# missing values",
   "id": "6f66cea0d7d479ca"
  },
  {
   "metadata": {
    "ExecuteTime": {
     "end_time": "2025-06-12T11:43:51.838239Z",
     "start_time": "2025-06-12T11:43:51.826226Z"
    }
   },
   "cell_type": "code",
   "source": [
    "missing = pd.DataFrame(df.isnull().sum() / len(df), columns=['missing_fraction'])\n",
    "missing = missing.sort_values(by='missing_fraction', ascending=True)\n",
    "\n",
    "with(open(os.path.join(\"..\", \"info\", \"missing_values.txt\"), \"w\")) as f:\n",
    "    f.write(missing.to_string())\n",
    "\n"
   ],
   "id": "758c7e513853878d",
   "outputs": [],
   "execution_count": 115
  },
  {
   "metadata": {
    "ExecuteTime": {
     "end_time": "2025-06-12T11:43:51.905213Z",
     "start_time": "2025-06-12T11:43:51.882481Z"
    }
   },
   "cell_type": "code",
   "source": [
    "# cannot guess: id, pid\n",
    "df_changed = df.dropna(subset=['id', 'pid']).copy()\n",
    "\n",
    "# replace missing field of study to other (18)\n",
    "df_changed.loc[:, 'field'] = df_changed['field'].fillna(18)\n",
    "\n",
    "\n",
    "\n",
    "# races\n",
    "def random_else_rase(row):\n",
    "    possible_races = [r for r in range(1, 7) if r != row['race']]\n",
    "    return np.random.choice(possible_races)\n",
    "\n",
    "\n",
    "df_changed.loc[:, 'race'] = df_changed['race'].fillna(6)\n",
    "\n",
    "# where race_o (race of a partner) is NaN\n",
    "mask_nan = df_changed['race_o'].isna()\n",
    "\n",
    "# samerace == True -> race_o = race\n",
    "df_changed.loc[mask_nan & (df_changed['samerace'] == True), 'race_o'] = df_changed.loc[mask_nan & (df_changed['samerace'] == True), 'race']\n",
    "\n",
    "# samerace == False -> random race != race\n",
    "df_changed.loc[mask_nan & (df_changed['samerace'] == False), 'race_o'] = df_changed.loc[mask_nan & (df_changed['samerace'] == False)].apply(random_else_rase, axis=1)"
   ],
   "id": "4c9170bcac7defe",
   "outputs": [],
   "execution_count": 116
  },
  {
   "metadata": {
    "ExecuteTime": {
     "end_time": "2025-06-12T11:43:51.953238Z",
     "start_time": "2025-06-12T11:43:51.948956Z"
    }
   },
   "cell_type": "code",
   "source": "len(df_changed.index)\n",
   "id": "4c90eaaccea3680",
   "outputs": [
    {
     "data": {
      "text/plain": [
       "8367"
      ]
     },
     "execution_count": 117,
     "metadata": {},
     "output_type": "execute_result"
    }
   ],
   "execution_count": 117
  },
  {
   "metadata": {
    "ExecuteTime": {
     "end_time": "2025-06-12T11:43:52.019785Z",
     "start_time": "2025-06-12T11:43:51.998505Z"
    }
   },
   "cell_type": "code",
   "source": [
    "# those and _o are missing\n",
    "attributes = ['like', 'fun', 'shar', 'attr', 'prob']\n",
    "\n",
    "# copy\n",
    "partner_df = df_changed[['iid', 'pid'] + attributes].copy()\n",
    "\n",
    "# change pid with iid\n",
    "partner_df = partner_df.rename(columns={'iid': 'pid', 'pid': 'iid'})\n",
    "partner_df.columns = ['iid', 'pid'] + [f\"{attr}_o_fill\" for attr in attributes]\n",
    "\n",
    "# merge\n",
    "merged = df_changed.merge(partner_df, on=['iid', 'pid'], how='left')\n",
    "\n",
    "# fill\n",
    "for attr in attributes:\n",
    "    merged[f\"{attr}_o\"] = merged[f\"{attr}_o\"].fillna(merged[f\"{attr}_o_fill\"])\n",
    "\n",
    "# delete\n",
    "merged.drop(columns=[f\"{attr}_o_fill\" for attr in attributes], inplace=True)\n",
    "\n",
    "# save\n",
    "df_changed = merged\n"
   ],
   "id": "54a2663dcded1c35",
   "outputs": [],
   "execution_count": 118
  },
  {
   "metadata": {
    "ExecuteTime": {
     "end_time": "2025-06-12T11:43:52.081553Z",
     "start_time": "2025-06-12T11:43:52.063881Z"
    }
   },
   "cell_type": "code",
   "source": [
    "# drop those which are missing\n",
    "df_changed = df_changed.dropna(subset=['like', 'like_o', 'fun', 'fun_o', 'shar', 'shar_o', 'attr', 'attr_o', 'prob', 'prob_o'])\n",
    "\n",
    "df_to_split = df_changed.copy()"
   ],
   "id": "4504b4bef733d567",
   "outputs": [],
   "execution_count": 119
  },
  {
   "metadata": {
    "ExecuteTime": {
     "end_time": "2025-06-12T11:43:52.131937Z",
     "start_time": "2025-06-12T11:43:52.126456Z"
    }
   },
   "cell_type": "code",
   "source": "len(df_to_split.index)\n",
   "id": "f3b3e3dd473c8ca0",
   "outputs": [
    {
     "data": {
      "text/plain": [
       "7165"
      ]
     },
     "execution_count": 120,
     "metadata": {},
     "output_type": "execute_result"
    }
   ],
   "execution_count": 120
  },
  {
   "metadata": {
    "ExecuteTime": {
     "end_time": "2025-06-12T11:43:52.188222Z",
     "start_time": "2025-06-12T11:43:52.177039Z"
    }
   },
   "cell_type": "code",
   "source": [
    "missing = pd.DataFrame(df_to_split.isnull().sum() / len(df), columns=['missing_fraction'])\n",
    "missing = missing.sort_values(by='missing_fraction', ascending=True)\n",
    "\n",
    "with(open(os.path.join(\"..\", \"info\", \"changed_missing_values.txt\"), \"w\")) as f:\n",
    "    f.write(missing.to_string())"
   ],
   "id": "a43141e9116ee4e4",
   "outputs": [],
   "execution_count": 121
  },
  {
   "metadata": {
    "ExecuteTime": {
     "end_time": "2025-06-12T11:43:52.353339Z",
     "start_time": "2025-06-12T11:43:52.232733Z"
    }
   },
   "cell_type": "code",
   "source": [
    "from sklearn.model_selection import train_test_split\n",
    "\n",
    "\n",
    "df_to_split['pair_key'] = df_to_split.apply(lambda row: frozenset([int(row['iid']), int(row['pid'])]), axis=1)\n",
    "unique_pairs = df_to_split['pair_key'].drop_duplicates().tolist()\n",
    "\n",
    "train_pairs, test_pairs = train_test_split(unique_pairs, test_size=0.2, random_state=42)\n",
    "\n",
    "train_pairs = set(train_pairs)\n",
    "test_pairs = set(test_pairs)\n",
    "\n",
    "train_df = df_to_split[df_to_split['pair_key'].isin(train_pairs)].drop(columns=['pair_key'])\n",
    "test_df = df_to_split[df_to_split['pair_key'].isin(test_pairs)].drop(columns=['pair_key'])\n",
    "\n",
    "print(\"Train size:\", len(train_df))\n",
    "print(\"Test size:\", len(test_df))\n"
   ],
   "id": "4ea95de38fbae625",
   "outputs": [
    {
     "name": "stdout",
     "output_type": "stream",
     "text": [
      "Train size: 5731\n",
      "Test size: 1434\n"
     ]
    }
   ],
   "execution_count": 122
  },
  {
   "metadata": {
    "ExecuteTime": {
     "end_time": "2025-06-12T11:43:52.400236Z",
     "start_time": "2025-06-12T11:43:52.397485Z"
    }
   },
   "cell_type": "code",
   "source": "",
   "id": "7bf2e2a7c8f7ce41",
   "outputs": [],
   "execution_count": null
  }
 ],
 "metadata": {
  "kernelspec": {
   "display_name": "Python 3",
   "language": "python",
   "name": "python3"
  },
  "language_info": {
   "codemirror_mode": {
    "name": "ipython",
    "version": 2
   },
   "file_extension": ".py",
   "mimetype": "text/x-python",
   "name": "python",
   "nbconvert_exporter": "python",
   "pygments_lexer": "ipython2",
   "version": "2.7.6"
  }
 },
 "nbformat": 4,
 "nbformat_minor": 5
}
