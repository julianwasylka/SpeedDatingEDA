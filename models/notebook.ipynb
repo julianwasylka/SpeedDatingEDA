{
 "cells": [
  {
   "metadata": {
    "ExecuteTime": {
     "end_time": "2025-06-12T15:21:24.983561Z",
     "start_time": "2025-06-12T15:21:24.980008Z"
    }
   },
   "cell_type": "code",
   "source": [
    "import pandas as pd\n",
    "import os\n",
    "import numpy as np"
   ],
   "id": "e54eab9f0e6f62dd",
   "outputs": [],
   "execution_count": 195
  },
  {
   "metadata": {},
   "cell_type": "markdown",
   "source": "# Load the data",
   "id": "1ea2821fb09c2923"
  },
  {
   "metadata": {
    "ExecuteTime": {
     "end_time": "2025-06-12T15:21:25.148380Z",
     "start_time": "2025-06-12T15:21:25.032072Z"
    }
   },
   "cell_type": "code",
   "source": [
    "a = os.path.join(\"..\", \"data\", \"Speed Dating Data.csv\")\n",
    "\n",
    "df = pd.read_csv(a, encoding='ISO-8859-1')\n",
    "\n"
   ],
   "id": "b06147b10366985a",
   "outputs": [],
   "execution_count": 196
  },
  {
   "metadata": {
    "ExecuteTime": {
     "end_time": "2025-06-12T15:21:25.158690Z",
     "start_time": "2025-06-12T15:21:25.154367Z"
    }
   },
   "cell_type": "code",
   "source": [
    "# iid: \tunique subject number, group(wave id gender)\n",
    "\n",
    "people_participated = len(df['iid'].unique())\n",
    "dates_occured = len(df.index)\n",
    "\n",
    "print(str(people_participated), \"people have participated\\n\" + str(dates_occured), \"dates occured\")"
   ],
   "id": "dfce318ccf28a2f5",
   "outputs": [
    {
     "name": "stdout",
     "output_type": "stream",
     "text": [
      "551 people have participated\n",
      "8378 dates occured\n"
     ]
    }
   ],
   "execution_count": 197
  },
  {
   "metadata": {},
   "cell_type": "markdown",
   "source": "# missing values",
   "id": "6f66cea0d7d479ca"
  },
  {
   "metadata": {
    "ExecuteTime": {
     "end_time": "2025-06-12T15:21:25.221179Z",
     "start_time": "2025-06-12T15:21:25.209482Z"
    }
   },
   "cell_type": "code",
   "source": [
    "missing = pd.DataFrame(df.isnull().sum() / len(df), columns=['missing_fraction'])\n",
    "missing = missing.sort_values(by='missing_fraction', ascending=True)\n",
    "\n",
    "with(open(os.path.join(\"..\", \"info\", \"missing_values.txt\"), \"w\")) as f:\n",
    "    f.write(missing.to_string())\n",
    "\n"
   ],
   "id": "758c7e513853878d",
   "outputs": [],
   "execution_count": 198
  },
  {
   "metadata": {},
   "cell_type": "markdown",
   "source": "## Race and PID IID",
   "id": "d9782338ee19b0cc"
  },
  {
   "metadata": {
    "ExecuteTime": {
     "end_time": "2025-06-12T15:21:25.283258Z",
     "start_time": "2025-06-12T15:21:25.262866Z"
    }
   },
   "cell_type": "code",
   "source": [
    "# cannot guess: id, pid\n",
    "df_changed = df.dropna(subset=['id', 'pid']).copy()\n",
    "\n",
    "\n",
    "# races\n",
    "def random_else_rase(row):\n",
    "    possible_races = [r for r in range(1, 7) if r != row['race']]\n",
    "    return np.random.choice(possible_races)\n",
    "\n",
    "\n",
    "df_changed.loc[:, 'race'] = df_changed['race'].fillna(6)\n",
    "\n",
    "# where race_o (race of a partner) is NaN\n",
    "mask_nan = df_changed['race_o'].isna()\n",
    "\n",
    "# samerace == True -> race_o = race\n",
    "df_changed.loc[mask_nan & (df_changed['samerace'] == True), 'race_o'] = df_changed.loc[mask_nan & (df_changed['samerace'] == True), 'race']\n",
    "\n",
    "# samerace == False -> random race != race\n",
    "df_changed.loc[mask_nan & (df_changed['samerace'] == False), 'race_o'] = df_changed.loc[mask_nan & (df_changed['samerace'] == False)].apply(random_else_rase, axis=1)"
   ],
   "id": "4c9170bcac7defe",
   "outputs": [],
   "execution_count": 199
  },
  {
   "metadata": {
    "ExecuteTime": {
     "end_time": "2025-06-12T15:21:25.331724Z",
     "start_time": "2025-06-12T15:21:25.326699Z"
    }
   },
   "cell_type": "code",
   "source": "len(df_changed.index)\n",
   "id": "4c90eaaccea3680",
   "outputs": [
    {
     "data": {
      "text/plain": [
       "8367"
      ]
     },
     "execution_count": 200,
     "metadata": {},
     "output_type": "execute_result"
    }
   ],
   "execution_count": 200
  },
  {
   "metadata": {},
   "cell_type": "markdown",
   "source": "## attributes and *_o",
   "id": "c419b5c9ac2d0ddc"
  },
  {
   "metadata": {
    "ExecuteTime": {
     "end_time": "2025-06-12T15:21:25.398480Z",
     "start_time": "2025-06-12T15:21:25.376154Z"
    }
   },
   "cell_type": "code",
   "source": [
    "# those and _o are missing\n",
    "attributes = ['like', 'fun', 'shar', 'attr', 'prob', 'intel', 'sinc', 'amb', 'age', 'met']\n",
    "\n",
    "# copy\n",
    "partner_df = df_changed[['iid', 'pid'] + attributes].copy()\n",
    "\n",
    "# change pid with iid\n",
    "partner_df = partner_df.rename(columns={'iid': 'pid', 'pid': 'iid'})\n",
    "partner_df.columns = ['iid', 'pid'] + [f\"{attr}_o_fill\" for attr in attributes]\n",
    "\n",
    "# merge\n",
    "merged = df_changed.merge(partner_df, on=['iid', 'pid'], how='left')\n",
    "\n",
    "# fill\n",
    "for attr in attributes:\n",
    "    merged[f\"{attr}_o\"] = merged[f\"{attr}_o\"].fillna(merged[f\"{attr}_o_fill\"])\n",
    "\n",
    "# delete\n",
    "merged.drop(columns=[f\"{attr}_o_fill\" for attr in attributes], inplace=True)\n",
    "\n",
    "# save\n",
    "df_changed = merged\n"
   ],
   "id": "54a2663dcded1c35",
   "outputs": [],
   "execution_count": 201
  },
  {
   "metadata": {
    "ExecuteTime": {
     "end_time": "2025-06-12T15:21:25.452622Z",
     "start_time": "2025-06-12T15:21:25.442319Z"
    }
   },
   "cell_type": "code",
   "source": [
    "# drop those which are missing\n",
    "df_changed = df_changed.dropna(subset=['like', 'like_o', 'fun', 'fun_o', 'shar', 'shar_o',\n",
    "                                       'attr', 'attr_o', 'prob', 'prob_o', 'intel', 'intel_o',\n",
    "                                       'sinc', 'sinc_o', 'amb', 'amb_o', 'age', 'age_o', 'met', 'met_o'])\n"
   ],
   "id": "4504b4bef733d567",
   "outputs": [],
   "execution_count": 202
  },
  {
   "metadata": {
    "ExecuteTime": {
     "end_time": "2025-06-12T15:21:25.500642Z",
     "start_time": "2025-06-12T15:21:25.495565Z"
    }
   },
   "cell_type": "code",
   "source": "len(df_changed.index)\n",
   "id": "f3b3e3dd473c8ca0",
   "outputs": [
    {
     "data": {
      "text/plain": [
       "6734"
      ]
     },
     "execution_count": 203,
     "metadata": {},
     "output_type": "execute_result"
    }
   ],
   "execution_count": 203
  },
  {
   "metadata": {},
   "cell_type": "markdown",
   "source": "## Attributes scale 1-10",
   "id": "32db64435c6b0f73"
  },
  {
   "metadata": {
    "ExecuteTime": {
     "end_time": "2025-06-12T15:21:25.555464Z",
     "start_time": "2025-06-12T15:21:25.543929Z"
    }
   },
   "cell_type": "code",
   "source": [
    "# How often do you go out (not necessarily on dates)?\n",
    "df_changed.loc[:, 'go_out'] = df_changed['go_out'].fillna(0) # no answear\n",
    "\n",
    "#How important is it to you that a person you date be of the same racial/ethnic background?\n",
    "df_changed.loc[:, 'imprace'] = df_changed['imprace'].fillna(0) # no answear\n",
    "\n",
    "#How important is it to you (on a scale of 1-10) that a person you date be of the same religious background?\n",
    "df_changed.loc[:, 'imprelig'] = df_changed['imprelig'].fillna(0) # no answear\n",
    "\n",
    "# Interests\n",
    "intreset_columns = ['sports', 'tvsports', 'exercise', 'dining', 'museums',\n",
    "'art', 'hiking', 'gaming', 'clubbing', 'reading', 'tv', 'theater', 'movies',\n",
    "'concerts', 'music', 'shopping', 'yoga']\n",
    "df_changed.loc[:, intreset_columns] = df_changed.loc[:, intreset_columns].fillna(0)\n",
    "\n",
    "\n",
    "#Overall, on a scale of 1-10, how happy do you expect to be with the people you meet during the speed-dating event?\n",
    "df_changed.loc[:, 'exphappy'] = df_changed['exphappy'].fillna(0) # no answear\n",
    "\n",
    "# Out of the 20 people you will meet, how many do you expect will be interested in dating you?\n",
    "df_changed.loc[:, 'expnum'] = df_changed['expnum'].fillna(0) # no answear\n",
    "\n",
    "#Overall, how satisfied were you with the people you met? (1=not at all satisfied, 10=extremely satisfied)\n",
    "df_changed.loc[:, 'satis_2'] = df_changed['satis_2'].fillna(0) # no answear\n",
    "\n"
   ],
   "id": "8a1fe3c672d08933",
   "outputs": [],
   "execution_count": 204
  },
  {
   "metadata": {},
   "cell_type": "markdown",
   "source": [
    "# What do you look for in the opposite sex?\n",
    "## Subjects filled out 3-4 weeks after they had been sent their matches\n",
    "## 6 attributes"
   ],
   "id": "32e06375e7e96403"
  },
  {
   "metadata": {
    "ExecuteTime": {
     "end_time": "2025-06-12T15:21:25.615207Z",
     "start_time": "2025-06-12T15:21:25.598584Z"
    }
   },
   "cell_type": "code",
   "source": [
    "columns_1_3 = ['attr1_3', 'sinc1_3', 'intel1_3', 'fun1_3', 'amb1_3', 'shar1_3']\n",
    "\n",
    "# Now, think back to your yes/no decisions during the night of the Speed Dating event.\n",
    "columns_7_3 = ['attr7_3', 'sinc7_3', 'intel7_3', 'fun7_3', 'amb7_3', 'shar7_3']\n",
    "\n",
    "#Now we want to know what you think MOST of your fellow men/women look for in the opposite sex. (1-10\n",
    "columns_4_3 = ['attr4_3', 'sinc4_3', 'intel4_3', 'fun4_3', 'amb4_3', 'shar4_3']\n",
    "\n",
    "#What do you think the opposite sex looks for in a date? (1-10)\n",
    "columns_2_3 = ['attr2_3', 'sinc2_3', 'intel2_3', 'fun2_3', 'amb2_3', 'shar2_3']\n",
    "\n",
    "# Please rate your opinion of your own attributes, on a scale of 1-10 (1= awful and 10=great).\n",
    "columns_3_3 = ['attr3_3', 'sinc3_3', 'intel3_3', 'fun3_3', 'amb3_3'] # !!! NO SHAR\n",
    "\n",
    "#And finally, how do you think others perceive you?\n",
    "columns_5_3 = ['attr5_3', 'sinc5_3', 'intel5_3', 'fun5_3', 'amb5_3'] # !!! NO SHAR\n",
    "\n",
    "df_changed.loc[:, columns_1_3] = df_changed.loc[:, columns_1_3].fillna(0)\n",
    "df_changed.loc[:, columns_7_3] = df_changed.loc[:, columns_7_3].fillna(0)\n",
    "df_changed.loc[:, columns_4_3] = df_changed.loc[:, columns_4_3].fillna(0)\n",
    "df_changed.loc[:, columns_2_3] = df_changed.loc[:, columns_2_3].fillna(0)\n",
    "df_changed.loc[:, columns_3_3] = df_changed.loc[:, columns_3_3].fillna(0)\n",
    "df_changed.loc[:, columns_5_3] = df_changed.loc[:, columns_5_3].fillna(0)\n",
    "\n"
   ],
   "id": "5abc686974e7527e",
   "outputs": [],
   "execution_count": 205
  },
  {
   "metadata": {},
   "cell_type": "markdown",
   "source": [
    "## Survey filled out by students that are interested in participating in order to register for the event.\n",
    "## 6 Attributes"
   ],
   "id": "acf5eb7c5b204999"
  },
  {
   "metadata": {
    "ExecuteTime": {
     "end_time": "2025-06-12T15:21:25.674633Z",
     "start_time": "2025-06-12T15:21:25.658799Z"
    }
   },
   "cell_type": "code",
   "source": [
    "# We want to know what you look for in the opposite sex.\n",
    "columns_1_1 = ['attr1_1', 'sinc1_1', 'intel1_1', 'fun1_1', 'amb1_1', 'shar1_1']\n",
    "\n",
    "# Now we want to know what you think MOST of your fellow men/women look for in the opposite sex.\n",
    "columns4_1 = ['attr4_1', 'sinc4_1', 'intel4_1', 'fun4_1', 'amb4_1', 'shar4_1']\n",
    "\n",
    "# What do you think the opposite sex looks for in a date?\n",
    "columns2_1 = ['attr2_1', 'sinc2_1', 'intel2_1', 'fun2_1', 'amb2_1', 'shar2_1']\n",
    "\n",
    "#How do you think you measure up?\n",
    "columns3_1 = ['attr3_1', 'sinc3_1', 'intel3_1', 'fun3_1', 'amb3_1']\n",
    "\n",
    "#And finally, how do you think others perceive you?\n",
    "columns5_1 = ['attr5_1', 'sinc5_1', 'intel5_1', 'fun5_1', 'amb5_1']\n",
    "\n",
    "df_changed.loc[:, columns_1_1] = df_changed.loc[:, columns_1_1].fillna(0)\n",
    "df_changed.loc[:, columns4_1] = df_changed.loc[:, columns4_1].fillna(0)\n",
    "df_changed.loc[:, columns2_1] = df_changed.loc[:, columns2_1].fillna(0)\n",
    "df_changed.loc[:, columns3_1] = df_changed.loc[:, columns3_1].fillna(0)\n",
    "df_changed.loc[:, columns5_1] = df_changed.loc[:, columns5_1].fillna(0)\n",
    "\n"
   ],
   "id": "c83bc09405dbafba",
   "outputs": [],
   "execution_count": 206
  },
  {
   "metadata": {},
   "cell_type": "markdown",
   "source": [
    "## Survey is filled out the day after participating in the event.  Subjects must have submitted this in order to be sent their matches.\n",
    "## 6 attributes"
   ],
   "id": "64db8095defac0b7"
  },
  {
   "metadata": {
    "ExecuteTime": {
     "end_time": "2025-06-12T15:21:25.737476Z",
     "start_time": "2025-06-12T15:21:25.720357Z"
    }
   },
   "cell_type": "code",
   "source": [
    "#Now, think back to your yes/no decisions during the Speed Dating event.\n",
    "# Try to distribute the 100 points among these six attributes in the way that best reflects the actual importance of\n",
    "# these attributes inyour decisions\n",
    "columns_7_2 = ['attr7_2', 'sinc7_2', 'intel7_2', 'fun7_2', 'amb7_2', 'shar7_2']\n",
    "\n",
    "# We want to know what you look for in the opposite sex.\n",
    "columns_1_2 = ['attr1_2', 'sinc1_2', 'intel1_2', 'fun1_2', 'amb1_2', 'shar1_2']\n",
    "\n",
    "# What do you think MOST of your fellow men/women look for in the opposite sex?\n",
    "columns_4_2 = ['attr4_2', 'sinc4_2', 'intel4_2', 'fun4_2', 'amb4_2', 'shar4_2']\n",
    "\n",
    "# What do you think the opposite sex looks for in a date?\n",
    "columns_2_2 = ['attr2_2', 'sinc2_2', 'intel2_2', 'fun2_2', 'amb2_2', 'shar2_2']\n",
    "\n",
    "# How do you think you measure up?\n",
    "columns_3_2 = ['attr3_2', 'sinc3_2', 'intel3_2', 'fun3_2', 'amb3_2']\n",
    "\n",
    "# And finally, how do you think others perceive you?\n",
    "columns_5_2 = ['attr5_2', 'sinc5_2', 'intel5_2', 'fun5_2', 'amb5_2']\n",
    "\n",
    "df_changed.loc[:, columns_7_2] = df_changed.loc[:, columns_7_2].fillna(0)\n",
    "df_changed.loc[:, columns_1_2] = df_changed.loc[:, columns_1_2].fillna(0)\n",
    "df_changed.loc[:, columns_4_2] = df_changed.loc[:, columns_4_2].fillna(0)\n",
    "df_changed.loc[:, columns_2_2] = df_changed.loc[:, columns_2_2].fillna(0)\n",
    "df_changed.loc[:, columns_3_2] = df_changed.loc[:, columns_3_2].fillna(0)\n",
    "df_changed.loc[:, columns_5_2] = df_changed.loc[:, columns_5_2].fillna(0)\n"
   ],
   "id": "de460ed12dde2763",
   "outputs": [],
   "execution_count": 207
  },
  {
   "metadata": {},
   "cell_type": "markdown",
   "source": [
    "## Half way through meeting all potential dates during the night of the event on their scorecard:\n",
    "## 6 Attributes"
   ],
   "id": "6bf1cf834c3712c3"
  },
  {
   "metadata": {
    "ExecuteTime": {
     "end_time": "2025-06-12T15:21:25.788425Z",
     "start_time": "2025-06-12T15:21:25.779823Z"
    }
   },
   "cell_type": "code",
   "source": [
    "#Please rate the importance of the following attributes in a potential date on a scale of 1-10\n",
    "columns_1_s = ['attr1_s', 'sinc1_s', 'intel1_s', 'fun1_s', 'amb1_s', 'shar1_s']\n",
    "#Please rate your opinion of your own attributes, on a scale of 1-10 (1=awful, 10=great) --Be honest!\n",
    "columns_3_s = ['attr3_s', 'sinc3_s', 'intel3_s', 'fun3_s', 'amb3_s']\n",
    "\n",
    "df_changed.loc[:, columns_1_s] = df_changed.loc[:, columns_1_s].fillna(0)\n",
    "df_changed.loc[:, columns_3_s] = df_changed.loc[:, columns_3_s].fillna(0)\n"
   ],
   "id": "c86f80302a4fbf6d",
   "outputs": [],
   "execution_count": 208
  },
  {
   "metadata": {},
   "cell_type": "markdown",
   "source": "## pf_o_* attributes",
   "id": "d57b7321e10163d8"
  },
  {
   "metadata": {
    "ExecuteTime": {
     "end_time": "2025-06-12T15:21:25.852789Z",
     "start_time": "2025-06-12T15:21:25.830944Z"
    }
   },
   "cell_type": "code",
   "source": [
    "partner_pref_cols = ['attr1_1', 'sinc1_1', 'intel1_1', 'fun1_1', 'amb1_1', 'shar1_1']\n",
    "partner_pref_targets = ['pf_o_att', 'pf_o_sin', 'pf_o_int', 'pf_o_fun', 'pf_o_amb', 'pf_o_sha']\n",
    "\n",
    "partner_pref_df = df_changed[['iid', 'pid'] + partner_pref_cols].copy()\n",
    "\n",
    "partner_pref_df = partner_pref_df.rename(columns={'iid': 'pid', 'pid': 'iid'})\n",
    "partner_pref_df.columns = ['iid', 'pid'] + [f\"{col}_from_partner\" for col in partner_pref_cols]\n",
    "\n",
    "df_changed = df_changed.merge(partner_pref_df, on=['iid', 'pid'], how='left')\n",
    "\n",
    "for source_col, target_col in zip(partner_pref_cols, partner_pref_targets):\n",
    "    df_changed[target_col] = df_changed[target_col].fillna(df_changed[f\"{source_col}_from_partner\"])\n",
    "\n",
    "df_changed.drop(columns=[f\"{col}_from_partner\" for col in partner_pref_cols], inplace=True)\n"
   ],
   "id": "729f2a37444c477b",
   "outputs": [],
   "execution_count": 209
  },
  {
   "metadata": {},
   "cell_type": "markdown",
   "source": "# Other attributes",
   "id": "8be7d170f3a5341c"
  },
  {
   "metadata": {
    "ExecuteTime": {
     "end_time": "2025-06-12T15:21:25.911117Z",
     "start_time": "2025-06-12T15:21:25.897496Z"
    }
   },
   "cell_type": "code",
   "source": [
    "\n",
    "# What is your primary goal in participating in this event?\n",
    "df_changed.loc[:, 'goal'] = df_changed['goal'].fillna(8) # other goal\n",
    "\n",
    "# In general, how frequently do you go on dates?\n",
    "df_changed.loc[:, 'date'] = df_changed['date'].fillna(0) # no answear\n",
    "\n",
    "df_changed = df_changed.drop(columns=['career']) # we do not need text\n",
    "\n",
    "df_changed.loc[:, 'career_c'] = df_changed['career_c'].fillna(15) # other\n",
    "\n",
    "\n",
    "# Four minutes is:\n",
    "df_changed.loc[:, 'length'] = df_changed['length'].fillna(0) # no answear\n",
    "\n",
    "# The number of Speed \"Dates\" you had was:\n",
    "df_changed.loc[:, 'numdat_2'] = df_changed['numdat_2'].fillna(0) # no answear\n",
    "\n",
    "\n",
    "# How many have you contacted to set up a date??\n",
    "df_changed.loc[:, 'you_call'] = df_changed['you_call'].fillna(0) # no answear\n",
    "# How many have contacted you?\n",
    "df_changed.loc[:, 'them_cal'] = df_changed['them_cal'].fillna(0) # no answear\n",
    "\n",
    "\n",
    "# Have you been on a date with any of your matches?\n",
    "df_changed.loc[:, 'date_3'] = df_changed['date_3'].fillna(0) # no answear\n",
    "\n",
    "#How many of your matches have you been on a date with so far?\n",
    "df_changed.loc[:, 'numdat_3'] = df_changed['numdat_3'].fillna(0) # no answear\n",
    "df_changed.loc[:, 'num_in_3'] = df_changed['num_in_3'].fillna(0) # no answear\n",
    "\n",
    "\n",
    "# correlation between participant’s and partner’s ratings of interests in Time 1\n",
    "df_changed.loc[:, 'int_corr'] = df_changed['int_corr'].fillna(0) # no answear\n",
    "\n",
    "#How many matches do you estimate you will get (a match occurs when you and your partner both check “Yes” next to decision)?\n",
    "df_changed.loc[:, 'match_es'] = df_changed['match_es'].fillna(0) # no answear\n"
   ],
   "id": "dfc9e44ebe185c55",
   "outputs": [],
   "execution_count": 210
  },
  {
   "metadata": {},
   "cell_type": "markdown",
   "source": "# DUNNO",
   "id": "f5e17cca083bf0c0"
  },
  {
   "metadata": {
    "ExecuteTime": {
     "end_time": "2025-06-12T15:21:25.966392Z",
     "start_time": "2025-06-12T15:21:25.953396Z"
    }
   },
   "cell_type": "code",
   "source": [
    "# replace missing field of study to other (18)\n",
    "df_changed = df_changed.drop(columns=['field']) # we do not need text\n",
    "df_changed.loc[:, 'field_cd'] = df_changed['field_cd'].fillna(18)\n",
    "#TODO nie wiem czy mozna zastąpić nieuzupełnione field_cd jako other? być może ktoś nie zaznaczył bo nie jest na uczelni?\n",
    "#TODO nie wiem co to znaczy undergrd (podejrzewam, że to dla osób ze szkół średnich?)\n",
    "#TODO cos trzeba zrobic z mn_sat\n",
    "#TODO cos trzeba zrobic z tuition\n",
    "\n",
    "df_changed.loc[:, 'mn_sat'] = df_changed['mn_sat'].fillna(0)\n",
    "df_changed.loc[:, 'tuition'] = df_changed['tuition'].fillna(0)\n",
    "#mam przeczucie ze to wszystko ma ze sobą związek ale nie wiem jak to połączyć\n",
    "\n",
    "\n",
    "#TODO\n",
    "'''\n",
    "from              0.001790\n",
    "zipcode           0.096324\n",
    "positin1          0.179279\n",
    "undergra          0.331463\n",
    "income            0.386608\n",
    "'''\n"
   ],
   "id": "95198ccc6fec82cc",
   "outputs": [
    {
     "data": {
      "text/plain": [
       "'\\nfrom              0.001790\\nzipcode           0.096324\\npositin1          0.179279\\nundergra          0.331463\\nincome            0.386608\\n'"
      ]
     },
     "execution_count": 211,
     "metadata": {},
     "output_type": "execute_result"
    }
   ],
   "execution_count": 211
  },
  {
   "metadata": {},
   "cell_type": "markdown",
   "source": "## check missing values once again",
   "id": "4ef9b3baf5d4a190"
  },
  {
   "metadata": {
    "ExecuteTime": {
     "end_time": "2025-06-12T15:21:26.029789Z",
     "start_time": "2025-06-12T15:21:26.009558Z"
    }
   },
   "cell_type": "code",
   "source": [
    "df_to_split = df_changed.copy()\n",
    "\n",
    "missing = pd.DataFrame(df_to_split.isnull().sum() / len(df), columns=['missing_fraction'])\n",
    "missing = missing.sort_values(by='missing_fraction', ascending=True)\n",
    "\n",
    "with(open(os.path.join(\"..\", \"info\", \"changed_missing_values.txt\"), \"w\")) as f:\n",
    "    f.write(missing.to_string())"
   ],
   "id": "a43141e9116ee4e4",
   "outputs": [],
   "execution_count": 212
  },
  {
   "metadata": {},
   "cell_type": "markdown",
   "source": "# Test/train split",
   "id": "60bbe9c0c2078d3e"
  },
  {
   "metadata": {
    "ExecuteTime": {
     "end_time": "2025-06-12T15:21:26.187330Z",
     "start_time": "2025-06-12T15:21:26.076354Z"
    }
   },
   "cell_type": "code",
   "source": [
    "from sklearn.model_selection import train_test_split\n",
    "\n",
    "\n",
    "df_to_split['pair_key'] = df_to_split.apply(lambda row: frozenset([int(row['iid']), int(row['pid'])]), axis=1)\n",
    "unique_pairs = df_to_split['pair_key'].drop_duplicates().tolist()\n",
    "\n",
    "train_pairs, test_pairs = train_test_split(unique_pairs, test_size=0.2, random_state=42)\n",
    "\n",
    "train_pairs = set(train_pairs)\n",
    "test_pairs = set(test_pairs)\n",
    "\n",
    "train_df = df_to_split[df_to_split['pair_key'].isin(train_pairs)].drop(columns=['pair_key'])\n",
    "test_df = df_to_split[df_to_split['pair_key'].isin(test_pairs)].drop(columns=['pair_key'])\n",
    "\n",
    "print(\"Train size:\", len(train_df))\n",
    "print(\"Test size:\", len(test_df))\n"
   ],
   "id": "4ea95de38fbae625",
   "outputs": [
    {
     "name": "stdout",
     "output_type": "stream",
     "text": [
      "Train size: 5387\n",
      "Test size: 1347\n"
     ]
    }
   ],
   "execution_count": 213
  },
  {
   "metadata": {
    "ExecuteTime": {
     "end_time": "2025-06-12T15:21:26.237145Z",
     "start_time": "2025-06-12T15:21:26.234497Z"
    }
   },
   "cell_type": "code",
   "source": "",
   "id": "7bf2e2a7c8f7ce41",
   "outputs": [],
   "execution_count": null
  }
 ],
 "metadata": {
  "kernelspec": {
   "display_name": "Python 3",
   "language": "python",
   "name": "python3"
  },
  "language_info": {
   "codemirror_mode": {
    "name": "ipython",
    "version": 2
   },
   "file_extension": ".py",
   "mimetype": "text/x-python",
   "name": "python",
   "nbconvert_exporter": "python",
   "pygments_lexer": "ipython2",
   "version": "2.7.6"
  }
 },
 "nbformat": 4,
 "nbformat_minor": 5
}
